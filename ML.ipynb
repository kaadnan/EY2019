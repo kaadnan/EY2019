{
 "cells": [
  {
   "cell_type": "code",
   "execution_count": 176,
   "metadata": {},
   "outputs": [],
   "source": [
    "import math\n",
    "import matplotlib.pyplot as plt\n",
    "import matplotlib.patches as patches\n",
    "from collections import Counter, defaultdict\n",
    "import pandas as pd\n",
    "import pickle\n",
    "import numpy as np\n",
    "from shapely.geometry import Polygon, Point, LinearRing, box\n",
    "from sklearn.model_selection import train_test_split\n",
    "from sklearn.linear_model import LinearRegression\n",
    "from sklearn.metrics import mean_squared_error, r2_score\n",
    "from sklearn.neural_network import MLPClassifier\n",
    "from sklearn.metrics import classification_report\n",
    "from sklearn.ensemble import RandomForestClassifier\n",
    "from sklearn.linear_model import LogisticRegression\n",
    "from sklearn.preprocessing import StandardScaler\n",
    "from sklearn.datasets import make_moons, make_circles, make_classification\n",
    "from sklearn.neural_network import MLPClassifier\n",
    "from sklearn.neighbors import KNeighborsClassifier\n",
    "from sklearn.svm import SVC\n",
    "from sklearn.gaussian_process import GaussianProcessClassifier\n",
    "from sklearn.gaussian_process.kernels import RBF\n",
    "from sklearn.tree import DecisionTreeClassifier\n",
    "from sklearn.ensemble import RandomForestClassifier, AdaBoostClassifier\n",
    "from sklearn.naive_bayes import GaussianNB\n",
    "from sklearn.discriminant_analysis import QuadraticDiscriminantAnalysis\n",
    "from sklearn.preprocessing import StandardScaler\n",
    "from sklearn.feature_selection import SelectFromModel\n",
    "from sklearn.feature_extraction import DictVectorizer\n",
    "%matplotlib notebook"
   ]
  },
  {
   "cell_type": "code",
   "execution_count": 44,
   "metadata": {},
   "outputs": [],
   "source": [
    "df_train = pd.read_pickle('df_train')\n",
    "df_test = pd.read_pickle('df_test')\n",
    "train = df_train[df_train['duration'] != 0.0]\n",
    "test = df_test[(df_test['duration'] != 0.0) & (df_test.x_exit.isnull()) & (df_test.y_exit.isnull())]\n",
    "test_start_not_in_city = test[~(((test['x_entry'] >= 3750901.5068) &\n",
    "         (test['x_entry'] <= 3770901.5068)) & ((test['y_entry'] >= -19268905.6133) &\n",
    "         (test['y_entry'] <= -19208905.6133)))]\n",
    "test_start_in_city = test[((test['x_entry'] >= 3750901.5068) &\n",
    "         (test['x_entry'] <= 3770901.5068)) & ((test['y_entry'] >= -19268905.6133) &\n",
    "         (test['y_entry'] <= -19208905.6133))]\n",
    "train_not_in_city_1 = train[(~((train['x_entry'] >= 3750901.5068) &\n",
    "         (train['x_entry'] <= 3770901.5068) & (train['y_entry'] >= -19268905.6133) &\n",
    "         (train['y_entry'] <= -19208905.6133))&(train['label'] == 1))]\n",
    "train_not_in_city_0 = train[(~((train['x_entry'] >= 3750901.5068) &\n",
    "         (train['x_entry'] <= 3770901.5068) & (train['y_entry'] >= -19268905.6133) &\n",
    "         (train['y_entry'] <= -19208905.6133))&(train['label'] == 0))]\n",
    "train_in_city_0 = train[(((train['x_entry'] >= 3750901.5068) &\n",
    "         (train['x_entry'] <= 3770901.5068) & (train['y_entry'] >= -19268905.6133) &\n",
    "         (train['y_entry'] <= -19208905.6133))&(train['label'] == 0))]\n",
    "train_in_city_1 = train[(((train['x_entry'] >= 3750901.5068) &\n",
    "         (train['x_entry'] <= 3770901.5068) & (train['y_entry'] >= -19268905.6133) &\n",
    "         (train['y_entry'] <= -19208905.6133))&(train['label'] == 1))]"
   ]
  },
  {
   "cell_type": "code",
   "execution_count": 3,
   "metadata": {},
   "outputs": [
    {
     "name": "stdout",
     "output_type": "stream",
     "text": [
      "3740998.35481912 3777099.2656833767 -19382914.9809002 -19042656.658487003\n"
     ]
    }
   ],
   "source": [
    "min_x_entry = min(min(df_train.x_entry.describe()['min'], df_test.x_entry.describe()['min']),\n",
    "                  df_train.x_exit.describe()['min'])\n",
    "min_y_entry = min(min(df_train.y_entry.describe()['min'], df_test.y_entry.describe()['min']),\n",
    "                  df_train.y_exit.describe()['min'])\n",
    "max_x_entry = max(max(df_train.x_entry.describe()['max'], df_test.x_entry.describe()['max']),\n",
    "                  df_train.x_exit.describe()['max'])\n",
    "max_y_entry = max(max(df_train.y_entry.describe()['max'], df_test.y_entry.describe()['max']),\n",
    "                  df_train.y_exit.describe()['max'])\n",
    "print(min_x_entry, max_x_entry, min_y_entry, max_y_entry)"
   ]
  },
  {
   "cell_type": "code",
   "execution_count": 26,
   "metadata": {},
   "outputs": [],
   "source": [
    "def plot_map():\n",
    "    rect_all = patches.Rectangle((3740998.35481912, -19042656.658487003), (3777099.2656833767 - 3740998.35481912),\n",
    "                             (- 19382914.9809002 + 19042656.658487003),\n",
    "                             linewidth=1,edgecolor='g',fill = False,hatch = '\\\\\\\\\\\\', label = 'city')\n",
    "    city = plt.gca().add_patch(rect_all)\n",
    "    rect_city = patches.Rectangle((3750901.5068, -19208905.6133), (3770901.5068 - 3750901.5068),\n",
    "                             (- 19268905.6133 + 19208905.6133),\n",
    "                             linewidth=1,edgecolor='r',fill = False,hatch = '//////', label = 'city center')\n",
    "    city_center = plt.gca().add_patch(rect_city)\n",
    "    plt.legend(handles=[city, city_center])\n",
    "    plt.grid(True)\n",
    "#     plt.xlim(min_x_entry, max_x_entry)\n",
    "    plt.ylim(min_y_entry, max_y_entry)\n",
    "    plt.xlim(3740000, 3780000)\n",
    "    plt.ylim(-19000000, - 19400000)\n",
    "    plt.show()"
   ]
  },
  {
   "cell_type": "code",
   "execution_count": 127,
   "metadata": {},
   "outputs": [],
   "source": [
    "def get_box(x,y):\n",
    "    n1 = -1\n",
    "    n2 = -1\n",
    "    if(~np.isnan(x) and ~np.isnan(y)):\n",
    "        if(x >= 3740000.0000000000 and x < 3745000.0000000000):\n",
    "            n1 = 1\n",
    "        elif(x >= 3745000.0000000000 and x < 3750000.0000000000):\n",
    "            n1 = 2\n",
    "        elif(x >= 3750000.0000000000 and x < 3755000.0000000000):\n",
    "            n1 = 3\n",
    "        elif(x >= 3755000.0000000000 and x < 3760000.0000000000):\n",
    "            n1 = 4\n",
    "        elif(x >= 3760000.0000000000 and x < 3765000.0000000000):\n",
    "            n1 = 5\n",
    "        elif(x >= 3765000.0000000000 and x < 3770000.0000000000):\n",
    "            n1 = 6\n",
    "        elif(x >= 3770000.0000000000 and x < 3775000.0000000000):\n",
    "            n1 = 7\n",
    "        else:\n",
    "            n1 = 8\n",
    "\n",
    "        if(y >= -19400000.0000000000 and y < -19350000.0000000000):\n",
    "            n2 = 8\n",
    "        elif(y >= -19350000.0000000000 and y < -19300000.0000000000):\n",
    "            n2 = 7\n",
    "        elif(y >= -19300000.0000000000 and y < -19250000.0000000000):\n",
    "            n2 = 6\n",
    "        elif(y >= -19250000.0000000000 and y < -19200000.0000000000):\n",
    "            n2 = 5\n",
    "        elif(y >= -19200000.0000000000 and y < -19150000.0000000000):\n",
    "            n2 = 4\n",
    "        elif(y >= -19150000.0000000000 and y < -19100000.0000000000):\n",
    "            n2 = 3\n",
    "        elif(y >= -19100000.0000000000 and y < -19050000.0000000000):\n",
    "            n2 = 2\n",
    "        else:\n",
    "            n2 = 1\n",
    "    \n",
    "        return (n2-1)*8 + n1\n",
    "    else:\n",
    "        return 0"
   ]
  },
  {
   "cell_type": "code",
   "execution_count": 123,
   "metadata": {},
   "outputs": [
    {
     "data": {
      "text/plain": [
       "36"
      ]
     },
     "execution_count": 123,
     "metadata": {},
     "output_type": "execute_result"
    }
   ],
   "source": [
    "get_box(df_train.iloc[500].x_exit, df_train.iloc[500].y_exit)"
   ]
  },
  {
   "cell_type": "code",
   "execution_count": 11,
   "metadata": {},
   "outputs": [],
   "source": [
    "df_train['entry_box'] = df_train.apply(lambda row: get_box(row['x_entry'], row['y_entry']) , axis=1)\n",
    "df_train['exit_box'] = df_train.apply(lambda row: get_box(row['x_exit'], row['y_exit']) , axis=1)\n",
    "df_test['entry_box'] = df_test.apply(lambda row: get_box(row['x_entry'], row['y_entry']) , axis=1)\n",
    "df_test['exit_box'] = df_test.apply(lambda row: get_box(row['x_exit'], row['y_exit']) , axis=1)"
   ]
  },
  {
   "cell_type": "code",
   "execution_count": 129,
   "metadata": {},
   "outputs": [],
   "source": [
    "df_train.to_pickle('df_train')\n",
    "df_test.to_pickle('df_test')"
   ]
  },
  {
   "cell_type": "code",
   "execution_count": 102,
   "metadata": {},
   "outputs": [],
   "source": [
    "df = df_train.groupby('hash')\n",
    "df_list = list(df)"
   ]
  },
  {
   "cell_type": "code",
   "execution_count": 191,
   "metadata": {},
   "outputs": [],
   "source": [
    "df_test = df_test.groupby('hash')\n",
    "df_test_list = list(df_test)"
   ]
  },
  {
   "cell_type": "code",
   "execution_count": 190,
   "metadata": {},
   "outputs": [
    {
     "name": "stdout",
     "output_type": "stream",
     "text": [
      "134063\n"
     ]
    }
   ],
   "source": [
    "dataset = []\n",
    "print(len(df_list))\n",
    "for index, sample in enumerate(df_list):\n",
    "    length = sample[1].shape[0]\n",
    "    count = 0\n",
    "    features = {}\n",
    "    features['hash'] = sample[0]\n",
    "    for index1, row in sample[1].iterrows():\n",
    "        if(count < length - 1):\n",
    "            features['entry_'+ str(row['entry_box'])]  = features.get('entry_'+ str(row['entry_box']),0) + 1\n",
    "            features['exit_' + str(row['exit_box'])]  = features.get('exit_'+ str(row['exit_box']),0) + 1\n",
    "        else:\n",
    "            features['l_entry']  = features.get('entry_'+ str(row['entry_box']),0) + 1\n",
    "            features['l_exit']  = features.get('exit_'+ str(row['exit_box']),0) + 1\n",
    "            features['x_entry'] = row['x_entry']\n",
    "            features['y_entry'] = row['y_entry']\n",
    "            features['duration'] = row['duration']\n",
    "            features['city_distance'] = row['city_distance']\n",
    "            features['hour'] = row['hour']\n",
    "            features['label'] = row['label']\n",
    "        count = count + 1\n",
    "    dataset.append(features)"
   ]
  },
  {
   "cell_type": "code",
   "execution_count": 198,
   "metadata": {},
   "outputs": [
    {
     "name": "stdout",
     "output_type": "stream",
     "text": [
      "134063\n"
     ]
    }
   ],
   "source": [
    "dataset = []\n",
    "print(len(df_list))\n",
    "for index, sample in enumerate(df_list):\n",
    "    length = sample[1].shape[0]\n",
    "    count = 0\n",
    "    features = {}\n",
    "    features['hash'] = sample[0]\n",
    "    for index1, row in sample[1].iterrows():\n",
    "        if(count < length - 1):\n",
    "            features['entry_'+ str(row['entry_box'])]  = features.get('entry_'+ str(row['entry_box']),0) + 1\n",
    "            features['exit_' + str(row['exit_box'])]  = features.get('exit_'+ str(row['exit_box']),0) + 1\n",
    "        else:\n",
    "            features['l_entry']  = row['entry_box']\n",
    "            features['l_exit']  = row['exit_box']\n",
    "            features['x_entry'] = row['x_entry']\n",
    "            features['y_entry'] = row['y_entry']\n",
    "            features['duration'] = row['duration']\n",
    "            features['city_distance'] = row['city_distance']\n",
    "            features['hour'] = row['hour']\n",
    "            features['label'] = row['label']\n",
    "        count = count + 1\n",
    "    dataset.append(features)"
   ]
  },
  {
   "cell_type": "code",
   "execution_count": 223,
   "metadata": {},
   "outputs": [
    {
     "name": "stdout",
     "output_type": "stream",
     "text": [
      "33515\n"
     ]
    }
   ],
   "source": [
    "test_dataset = []\n",
    "print(len(df_test_list))\n",
    "for index, sample in enumerate(df_test_list):\n",
    "    length = sample[1].shape[0]\n",
    "    count = 0\n",
    "    features = {}\n",
    "    features['hash'] = sample[0]\n",
    "    for index1, row in sample[1].iterrows():\n",
    "        features['trajectory_id']  = row['trajectory_id']\n",
    "        if(count < length - 1):\n",
    "            features['entry_'+ str(row['entry_box'])]  = features.get('entry_'+ str(row['entry_box']),0) + 1\n",
    "            features['exit_' + str(row['exit_box'])]  = features.get('exit_'+ str(row['exit_box']),0) + 1\n",
    "        else:\n",
    "            features['l_entry']  = row['entry_box']\n",
    "            features['l_exit']  = 0\n",
    "            features['x_entry'] = row['x_entry']\n",
    "            features['y_entry'] = row['y_entry']\n",
    "            features['duration'] = row['duration']\n",
    "            features['city_distance'] = row['city_distance']\n",
    "            features['hour'] = row['hour']\n",
    "            features['label'] = -1\n",
    "        count = count + 1\n",
    "    test_dataset.append(features)"
   ]
  },
  {
   "cell_type": "code",
   "execution_count": 200,
   "metadata": {},
   "outputs": [],
   "source": [
    "x_train_df = pd.DataFrame(dataset).fillna(0)"
   ]
  },
  {
   "cell_type": "code",
   "execution_count": 228,
   "metadata": {},
   "outputs": [],
   "source": [
    "x_test_df = pd.DataFrame(test_dataset).fillna(0)\n",
    "x_test_df['entry_5'] = 0.0\n",
    "x_test_df['exit_5'] = 0.0"
   ]
  },
  {
   "cell_type": "code",
   "execution_count": 229,
   "metadata": {},
   "outputs": [
    {
     "name": "stdout",
     "output_type": "stream",
     "text": [
      "(134063, 117) (33515, 118)\n"
     ]
    }
   ],
   "source": [
    "print(x_train_df.shape, x_test_df.shape)"
   ]
  },
  {
   "cell_type": "code",
   "execution_count": 230,
   "metadata": {},
   "outputs": [],
   "source": [
    "training_dataset = x_train_df.drop(['hash','l_exit'], axis=1)\n",
    "testing_dataset = x_test_df.drop(['hash','l_exit','trajectory_id'], axis=1)"
   ]
  },
  {
   "cell_type": "code",
   "execution_count": 216,
   "metadata": {},
   "outputs": [],
   "source": [
    "x_1 = training_dataset.drop(['label'], axis=1).values\n",
    "y_1 = training_dataset['label'].values\n",
    "sc_1 = StandardScaler()\n",
    "x_1 = sc_1.fit_transform(x_1)"
   ]
  },
  {
   "cell_type": "code",
   "execution_count": 217,
   "metadata": {},
   "outputs": [
    {
     "name": "stdout",
     "output_type": "stream",
     "text": [
      "              precision    recall  f1-score   support\n",
      "\n",
      "           0       0.95      0.97      0.96      9768\n",
      "           1       0.92      0.85      0.89      3639\n",
      "\n",
      "   micro avg       0.94      0.94      0.94     13407\n",
      "   macro avg       0.93      0.91      0.92     13407\n",
      "weighted avg       0.94      0.94      0.94     13407\n",
      "\n"
     ]
    }
   ],
   "source": [
    "xTrain, xTest, yTrain, yTest = train_test_split(x_1, y_1, test_size = 0.1, random_state = 0)\n",
    "clf_1 = RandomForestClassifier(n_jobs = -1, n_estimators=100,max_depth = 40, random_state=42)\n",
    "clf_1.fit(xTrain, yTrain)\n",
    "yPred = clf_1.predict(xTest)\n",
    "print(classification_report(yTest, yPred))"
   ]
  },
  {
   "cell_type": "code",
   "execution_count": 218,
   "metadata": {},
   "outputs": [
    {
     "name": "stdout",
     "output_type": "stream",
     "text": [
      "(0, 0.31707452389274526)\n",
      "(0, 0.07744485114852785)\n",
      "(0, 0.0013352544897161276)\n",
      "(0, 0.001061261846434303)\n",
      "(1, 0.0013125000812986743)\n",
      "(0, 0.0008574758833072347)\n",
      "(0, 0.001538917480411402)\n",
      "(0, 7.797089529127445e-05)\n",
      "(0, 0.00024800250373864204)\n",
      "(1, 0.0011914778359290205)\n",
      "(1, 0.0010784444631022777)\n",
      "(0, 0.001248215540263061)\n",
      "(1, 0.0011847508530661599)\n",
      "(1, 0.001461443158320305)\n",
      "(1, 0.0008599214718489718)\n",
      "(0, 0.0006276772012806657)\n",
      "(0, 0.0011221537552791804)\n",
      "(0, 0.0020776717479500297)\n",
      "(0, 0.0017252146710061464)\n",
      "(0, 1.023530019889496e-05)\n",
      "(0, 0.0025162298802622555)\n",
      "(0, 0.0011462775189435815)\n",
      "(0, 0.0013851845551886674)\n",
      "(0, 0.001368017360578957)\n",
      "(0, 0.001331528261030952)\n",
      "(1, 0.0033922495866112335)\n",
      "(0, 0.035549152729202886)\n",
      "(1, 0.021660060237046464)\n",
      "(0, 0.008001012087572474)\n",
      "(0, 0.0021008392670142863)\n",
      "(1, 0.00020936545965460223)\n",
      "(0, 0.0018171205518373657)\n",
      "(1, 0.0031392381470791387)\n",
      "(1, 0.0031201268541063633)\n",
      "(0, 0.0021581337466734336)\n",
      "(1, 0.0051456164282722)\n",
      "(1, 0.004479671655299749)\n",
      "(1, 0.0023717216076878304)\n",
      "(0, 0.0012311802951708542)\n",
      "(0, 0.0004404595535958411)\n",
      "(0, 0.0023704067840783845)\n",
      "(0, 2.212276992481459e-08)\n",
      "(0, 0.0010651034042616697)\n",
      "(1, 0.001004703063001005)\n",
      "(1, 0.0013151572304390164)\n",
      "(1, 0.0011104579260631357)\n",
      "(0, 0.0016017860580217023)\n",
      "(0, 0.004372554425373242)\n",
      "(1, 1.9304753788923265e-05)\n",
      "(0, 0.00027364434241552304)\n",
      "(0, 0.0007867284863405289)\n",
      "(0, 0.0008858879822128688)\n",
      "(0, 0.0013800835569222317)\n",
      "(1, 0.0007251882908546425)\n",
      "(0, 0.0007731780034658479)\n",
      "(0, 1.4657067743866374e-05)\n",
      "(1, 0.000772000178023002)\n",
      "(0, 0.0009358364825896332)\n",
      "(0, 0.0011148563371910477)\n",
      "(0, 0.0006240696997119114)\n",
      "(0, 0.0009380189787028115)\n",
      "(0, 6.476133133135719e-05)\n",
      "(0, 0.00011627370388043571)\n",
      "(0, 0.0009280820509456971)\n",
      "(0, 0.0009758216738642478)\n",
      "(0, 0.0017566559938941317)\n",
      "(0, 0.000960606490796357)\n",
      "(0, 0.0014811988795561382)\n",
      "(0, 0.00048206079471397185)\n",
      "(0, 0.0004927251919048288)\n",
      "(0, 0.0010545133261016077)\n",
      "(0, 0.0022922475707379602)\n",
      "(0, 0.0017810299447649008)\n",
      "(0, 1.3574836673795522e-05)\n",
      "(1, 0.002202065275671047)\n",
      "(1, 0.001408782179730943)\n",
      "(1, 0.0016518643278352566)\n",
      "(0, 0.0011273106004406428)\n",
      "(0, 0.0016413254674045308)\n",
      "(0, 0.0031409552970154842)\n",
      "(1, 0.04704837484739576)\n",
      "(0, 0.02494817661245257)\n",
      "(1, 0.010083391147575638)\n",
      "(1, 0.0024384615355086377)\n",
      "(1, 0.00013923720098602376)\n",
      "(0, 0.0012031781908432434)\n",
      "(0, 0.0034091498750009443)\n",
      "(0, 0.0039339263587657046)\n",
      "(0, 0.0021014610251589728)\n",
      "(0, 0.006824313935632136)\n",
      "(0, 0.004330297731889474)\n",
      "(1, 0.0021997563893901197)\n",
      "(1, 0.001166360360689656)\n",
      "(1, 0.000441298666134717)\n",
      "(0, 0.0019207545244978572)\n",
      "(0, 1.1819414238983594e-06)\n",
      "(1, 0.0011410553881215056)\n",
      "(0, 0.0009254831184932913)\n",
      "(0, 0.0012031117979789956)\n",
      "(0, 0.0010917041429234693)\n",
      "(0, 0.0016546916678279167)\n",
      "(1, 0.0028925478528382077)\n",
      "(0, 1.500097232714459e-07)\n",
      "(0, 0.00020389337921724256)\n",
      "(1, 0.000773138277218312)\n",
      "(0, 0.000774015482763602)\n",
      "(0, 0.0009093065300172247)\n",
      "(1, 0.000850901009963106)\n",
      "(1, 0.0008688908501340376)\n",
      "(0, 1.659558562345019e-05)\n",
      "(0, 0.030180832959892684)\n",
      "(0, 0.09132025473565226)\n",
      "(0, 0.05794037770180846)\n",
      "(0, 0.13330707905267875)\n"
     ]
    }
   ],
   "source": [
    "for feature in zip(yTest, clf_1.feature_importances_):\n",
    "    print(feature)"
   ]
  },
  {
   "cell_type": "code",
   "execution_count": 240,
   "metadata": {},
   "outputs": [],
   "source": [
    "x_test_df['label'] =  clf_1.predict(sc_1.fit_transform(testing_dataset.drop(['label'], axis=1).values))"
   ]
  },
  {
   "cell_type": "code",
   "execution_count": 241,
   "metadata": {},
   "outputs": [],
   "source": [
    "x_test_df['label'] = x_test_df.apply(lambda row: 0 \n",
    "                                 if ((row['duration'] == 0.0) &\n",
    "                                     ~(((row['x_entry'] >= 3750901.5068) &\n",
    "                                                               (row['x_entry'] <= 3770901.5068)) &\n",
    "                                       ((row['y_entry'] >= -19268905.6133) &\n",
    "                                        (row['y_entry'] <= -19208905.6133))))\n",
    "                                 else row['label'], axis=1)\n",
    "x_test_df['label'] = x_test_df.apply(lambda row: 1\n",
    "                                 if ((row['duration'] == 0.0) &\n",
    "                                     (((row['x_entry'] >= 3750901.5068) &\n",
    "                                                               (row['x_entry'] <= 3770901.5068)) &\n",
    "                                       ((row['y_entry'] >= -19268905.6133) &\n",
    "                                        (row['y_entry'] <= -19208905.6133))))\n",
    "                                 else row['label'], axis=1)"
   ]
  },
  {
   "cell_type": "code",
   "execution_count": 242,
   "metadata": {},
   "outputs": [
    {
     "data": {
      "text/plain": [
       "0    25205\n",
       "1     8310\n",
       "Name: label, dtype: int64"
      ]
     },
     "execution_count": 242,
     "metadata": {},
     "output_type": "execute_result"
    }
   ],
   "source": [
    "x_test_df.label.value_counts()"
   ]
  },
  {
   "cell_type": "code",
   "execution_count": 233,
   "metadata": {},
   "outputs": [
    {
     "data": {
      "text/plain": [
       "0    25168\n",
       "1     8347\n",
       "Name: label, dtype: int64"
      ]
     },
     "execution_count": 233,
     "metadata": {},
     "output_type": "execute_result"
    }
   ],
   "source": [
    "x_test_df.label.value_counts()"
   ]
  },
  {
   "cell_type": "code",
   "execution_count": 243,
   "metadata": {},
   "outputs": [],
   "source": [
    "x_test_df.sort_values('trajectory_id',ascending=True)[['trajectory_id','label']].to_csv('output23.csv', index=False)"
   ]
  },
  {
   "cell_type": "code",
   "execution_count": null,
   "metadata": {},
   "outputs": [],
   "source": []
  }
 ],
 "metadata": {
  "kernelspec": {
   "display_name": "Python 3",
   "language": "python",
   "name": "python3"
  },
  "language_info": {
   "codemirror_mode": {
    "name": "ipython",
    "version": 3
   },
   "file_extension": ".py",
   "mimetype": "text/x-python",
   "name": "python",
   "nbconvert_exporter": "python",
   "pygments_lexer": "ipython3",
   "version": "3.6.8"
  }
 },
 "nbformat": 4,
 "nbformat_minor": 2
}
