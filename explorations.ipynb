{
 "cells": [
  {
   "cell_type": "code",
   "execution_count": null,
   "metadata": {},
   "outputs": [],
   "source": [
    "import pandas as pd\n",
    "import matplotlib.pyplot as plt\n",
    "import matplotlib.patches as patches\n",
    "import math\n",
    "%matplotlib notebook"
   ]
  },
  {
   "cell_type": "code",
   "execution_count": null,
   "metadata": {},
   "outputs": [],
   "source": [
    "df_train = pd.read_csv(\"data/data_train.csv\")\n",
    "df_test = pd.read_csv(\"data/data_test.csv\")\n",
    "df_train['time_entry'] = pd.to_timedelta(df_train['time_entry'])\n",
    "df_train['time_exit'] = pd.to_timedelta(df_train['time_exit'])\n",
    "df_test['time_entry'] = pd.to_timedelta(df_test['time_entry'])\n",
    "df_test['time_exit'] = pd.to_timedelta(df_test['time_exit'])\n",
    "df_train['duration'] = df_train['time_exit'] - df_train['time_entry']\n",
    "df_train['duration'] = df_train['duration'].dt.total_seconds()\n",
    "df_test['duration'] = df_test['time_exit'] - df_test['time_entry']\n",
    "df_test['duration'] = df_test['duration'].dt.total_seconds()"
   ]
  },
  {
   "cell_type": "code",
   "execution_count": null,
   "metadata": {},
   "outputs": [],
   "source": [
    "df_train['distance'] = df_train.apply(lambda row: (math.sqrt( ((row['x_entry'] - row['x_exit'])**2)+\n",
    "                                                             ((row['y_entry']- row['y_exit'])**2) )), axis=1)"
   ]
  },
  {
   "cell_type": "code",
   "execution_count": null,
   "metadata": {},
   "outputs": [],
   "source": [
    "print(df_train.shape[0], df_train.hash.nunique(), df_test.shape[0], df_test.hash.nunique())"
   ]
  },
  {
   "cell_type": "code",
   "execution_count": null,
   "metadata": {},
   "outputs": [],
   "source": [
    "print(df_test[df_test['x_exit'].isnull()].time_entry.describe(), \n",
    "      df_test[df_test['x_exit'].isnull()].time_exit.describe())"
   ]
  },
  {
   "cell_type": "code",
   "execution_count": null,
   "metadata": {},
   "outputs": [],
   "source": [
    "df = df_train.groupby('hash')\n",
    "df_list = list(df)\n",
    "df_2 = df_test.groupby('hash')\n",
    "df_2_list = list(df_2)"
   ]
  },
  {
   "cell_type": "code",
   "execution_count": null,
   "metadata": {},
   "outputs": [],
   "source": [
    "tt = df_train[(df_train['x_exit'] >= 3750901.5068) & (df_train['x_exit'] <= 3770901.5068) & \n",
    "              (df_train['y_exit'] >= -19268905.6133) & (df_train['y_exit'] <= -19208905.6133)]\n",
    "tt2 = df_test[(df_test['x_exit'] >= 3750901.5068) & (df_test['x_exit'] <= 3770901.5068) & \n",
    "              (df_test['y_exit'] >= -19268905.6133) & (df_test['y_exit'] <= -19208905.6133)]"
   ]
  },
  {
   "cell_type": "code",
   "execution_count": null,
   "metadata": {},
   "outputs": [],
   "source": [
    "def plot_trajectory(df_sample):\n",
    "    rect = patches.Rectangle((3750901.5068,-19208905.6133), (3770901.5068 - 3750901.5068),\n",
    "                             (- 19268905.6133 + 19208905.6133),\n",
    "                             linewidth=1,edgecolor='g',fill = False,hatch = '\\\\\\\\\\\\', label = 'city center')\n",
    "    city = plt.gca().add_patch(rect)\n",
    "#     for index, row in df_sample.iterrows():\n",
    "#         arrows = plt.arrow(row['x_entry'], row['y_entry'], row['x_exit'] - row['x_entry'], row['y_exit'] - row['y_entry'],\n",
    "#                   label ='Trajectory', color = 'b')\n",
    "    entries = plt.scatter(df_sample.x_entry,df_sample.y_entry, label='Entry point', color = 'b')\n",
    "    exits = plt.scatter(df_sample.x_exit,df_sample.y_exit, label='Exit point', color = 'r')\n",
    "    plt.legend(handles=[city, entries, exits])\n",
    "    plt.grid(True)\n",
    "    plt.show()"
   ]
  },
  {
   "cell_type": "code",
   "execution_count": null,
   "metadata": {},
   "outputs": [],
   "source": [
    "plot_trajectory(df_2_list[50][1])"
   ]
  },
  {
   "cell_type": "code",
   "execution_count": null,
   "metadata": {},
   "outputs": [],
   "source": [
    "for index, people in enumerate(df_2_list):\n",
    "    if people[1].shape[0] <=2:\n",
    "        print(index, \":\",people[1].shape[0])"
   ]
  },
  {
   "cell_type": "code",
   "execution_count": null,
   "metadata": {},
   "outputs": [],
   "source": [
    "df_2_list[33332][1]"
   ]
  },
  {
   "cell_type": "code",
   "execution_count": null,
   "metadata": {},
   "outputs": [],
   "source": []
  },
  {
   "cell_type": "code",
   "execution_count": null,
   "metadata": {},
   "outputs": [],
   "source": [
    "df_train.duration.describe()"
   ]
  },
  {
   "cell_type": "code",
   "execution_count": null,
   "metadata": {},
   "outputs": [],
   "source": [
    "df_train[(df_train['duration'] == 0.0) & (df_train['x_entry'] == df_train['x_exit']) &\n",
    "         (df_train['y_entry'] == df_train['y_exit'])].shape[0]"
   ]
  },
  {
   "cell_type": "code",
   "execution_count": null,
   "metadata": {},
   "outputs": [],
   "source": [
    "df_train[(df_train['duration'] == 0.0) & ((df_train['x_entry'] != df_train['x_exit']) |\n",
    "         (df_train['y_entry'] != df_train['y_exit']))]"
   ]
  },
  {
   "cell_type": "code",
   "execution_count": null,
   "metadata": {},
   "outputs": [],
   "source": [
    "df_test[(df_test['duration'] == 0.0) & (df_test.x_exit.isnull()) & (df_test.y_exit.isnull())].shape[0]"
   ]
  },
  {
   "cell_type": "code",
   "execution_count": null,
   "metadata": {},
   "outputs": [],
   "source": [
    "df_train['velocity'] = df_train.apply(lambda row: (row['distance']/row['duration'])\n",
    "                                      if row['duration']!= 0.0 else 0.0, axis=1)"
   ]
  },
  {
   "cell_type": "code",
   "execution_count": null,
   "metadata": {},
   "outputs": [],
   "source": [
    "df_train[(df_train['velocity'] != 0.0) & (df_train['velocity'] < 500)].velocity.describe()"
   ]
  },
  {
   "cell_type": "code",
   "execution_count": null,
   "metadata": {},
   "outputs": [],
   "source": [
    "df_train[(df_train['velocity'] != 0.0)].velocity.describe()"
   ]
  },
  {
   "cell_type": "code",
   "execution_count": null,
   "metadata": {},
   "outputs": [],
   "source": [
    "df_train = df_train.drop(df_train.index[643223])"
   ]
  },
  {
   "cell_type": "code",
   "execution_count": null,
   "metadata": {},
   "outputs": [],
   "source": [
    "380152.000000 - 377930.000000"
   ]
  },
  {
   "cell_type": "code",
   "execution_count": null,
   "metadata": {},
   "outputs": [],
   "source": [
    "df_test[(df_test['duration'] > 0) & (df_test['duration'] < 5000) & (df_test.x_exit.isnull()) & (df_test.y_exit.isnull())].duration.describe()"
   ]
  },
  {
   "cell_type": "code",
   "execution_count": null,
   "metadata": {},
   "outputs": [],
   "source": [
    "plt.scatter(df_train[df_train['velocity'] != 0.0].distance, df_train[df_train['velocity'] != 0.0].duration)"
   ]
  },
  {
   "cell_type": "code",
   "execution_count": null,
   "metadata": {},
   "outputs": [],
   "source": [
    "df_test['label']= -1\n",
    "df_test['label'] = df_test.apply(lambda row: 1 \n",
    "                                 if ((row['duration'] == 0.0)&(math.isnan(row['x_exit'])) & (math.isnan(row['y_exit'])) &\n",
    "                                      (row['x_entry'] >= 3750901.5068) & (row['x_entry'] <= 3770901.5068) & \n",
    "                                      (row['y_entry'] >= -19268905.6133) & (row['y_entry'] <= -19208905.6133)) \n",
    "                                 else row['label'], axis=1)\n",
    "df_test['label'] = df_test.apply(lambda row: 0 \n",
    "                                 if ((row['duration'] == 0.0)&(math.isnan(row['x_exit'])) & (math.isnan(row['y_exit'])) &\n",
    "                                     (row['label'] == -1))\n",
    "                                 else row['label'], axis=1)"
   ]
  },
  {
   "cell_type": "code",
   "execution_count": null,
   "metadata": {},
   "outputs": [],
   "source": [
    "df_test[df_test.x_exit.isnull()]['label'].value_counts()"
   ]
  },
  {
   "cell_type": "code",
   "execution_count": null,
   "metadata": {},
   "outputs": [],
   "source": [
    "df_test['label'] = df_test['label'].replace(-1,0)"
   ]
  },
  {
   "cell_type": "code",
   "execution_count": null,
   "metadata": {},
   "outputs": [],
   "source": [
    "df_test[df_test.x_exit.isnull()][['trajectory_id', 'label']].to_csv('output.csv', index=False)"
   ]
  }
 ],
 "metadata": {
  "kernelspec": {
   "display_name": "Python 3",
   "language": "python",
   "name": "python3"
  },
  "language_info": {
   "codemirror_mode": {
    "name": "ipython",
    "version": 3
   },
   "file_extension": ".py",
   "mimetype": "text/x-python",
   "name": "python",
   "nbconvert_exporter": "python",
   "pygments_lexer": "ipython3",
   "version": "3.6.8"
  }
 },
 "nbformat": 4,
 "nbformat_minor": 2
}
