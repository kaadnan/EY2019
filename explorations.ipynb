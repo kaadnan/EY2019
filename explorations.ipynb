{
 "cells": [
  {
   "cell_type": "code",
   "execution_count": 1,
   "metadata": {},
   "outputs": [],
   "source": [
    "import pandas as pd\n",
    "import matplotlib.pyplot as plt\n",
    "import matplotlib.patches as patches\n",
    "from shapely.geometry import Polygon, Point, LinearRing\n",
    "import seaborn as sns; sns.set()\n",
    "import math\n",
    "%matplotlib notebook"
   ]
  },
  {
   "cell_type": "code",
   "execution_count": 2,
   "metadata": {},
   "outputs": [],
   "source": [
    "poly = Polygon([(3750901.5068, -19268905.6133), (3750901.5068,-19208905.6133),\n",
    "                (3770901.5068, -19268905.6133), (3770901.5068,-19208905.6133)])\n",
    "\n",
    "def city_distance(x, y):\n",
    "    point = Point(x, y)\n",
    "    pol_ext = LinearRing(poly.exterior.coords)\n",
    "    d = pol_ext.project(point)\n",
    "    p = pol_ext.interpolate(d)\n",
    "    closest_point_coords = list(p.coords)[0]\n",
    "    return point.distance(Point(closest_point_coords))\n",
    "\n",
    "dd_1 = dd[(dd['duration'] != 0.0) & (dd['x_exit'] >= 3750901.5068) & \n",
    "         (dd['x_exit'] <= 3770901.5068) & (dd['y_exit'] >= -19268905.6133) & \n",
    "         (dd['y_exit'] <= -19208905.6133)]"
   ]
  },
  {
   "cell_type": "code",
   "execution_count": null,
   "metadata": {},
   "outputs": [],
   "source": [
    "df_train = pd.read_csv(\"../../data/data_train.csv\")\n",
    "df_test = pd.read_csv(\"../../data/data_test.csv\")\n",
    "df_train['time_entry'] = pd.to_timedelta(df_train['time_entry'])\n",
    "df_train['time_exit'] = pd.to_timedelta(df_train['time_exit'])\n",
    "df_test['time_entry'] = pd.to_timedelta(df_test['time_entry'])\n",
    "df_test['time_exit'] = pd.to_timedelta(df_test['time_exit'])\n",
    "df_train['duration'] = df_train['time_exit'] - df_train['time_entry']\n",
    "df_train['duration'] = df_train['duration'].dt.total_seconds()\n",
    "df_test['duration'] = df_test['time_exit'] - df_test['time_entry']\n",
    "df_test['duration'] = df_test['duration'].dt.total_seconds()\n",
    "df_train['distance'] = df_train.apply(lambda row: Point(row['x_entry'],row['y_entry']).\n",
    "                                      distance(Point(row['x_exit'],row['y_exit'])), axis=1)\n",
    "df_train['velocity'] = df_train.apply(lambda row: (row['distance']/row['duration'])\n",
    "                                      if row['duration']!= 0.0 else 0.0, axis=1)\n",
    "df_test['city_distance'] = df_test.apply(lambda row: 0 if ((row['x_entry'] >= 3750901.5068) &\n",
    "                                                    (row['x_entry'] <= 3770901.5068) & \n",
    "                                                    (row['y_entry'] >= -19268905.6133) & \n",
    "                                                    (row['y_entry'] <= -19208905.6133)) \n",
    "                                  else city_distance(row['x_entry'], row['y_entry']), axis = 1)\n",
    "df_train['city_distance'] = df_train.apply(lambda row: 0 if ((row['x_entry'] >= 3750901.5068) &\n",
    "                                                    (row['x_entry'] <= 3770901.5068) & \n",
    "                                                    (row['y_entry'] >= -19268905.6133) & \n",
    "                                                    (row['y_entry'] <= -19208905.6133)) \n",
    "                                  else city_distance(row['x_entry'], row['y_entry']), axis = 1)\n",
    "df_train['ratio'] = df_train.apply(lambda row: (row['city_distance']/row['duration'])\n",
    "                                      if row['duration']!= 0.0 else 0.0, axis=1)\n",
    "df_test['ratio'] = df_test.apply(lambda row: (row['city_distance']/row['duration'])\n",
    "                                      if row['duration']!= 0.0 else 0.0, axis=1)\n",
    "df_train['label']= -1\n",
    "df_train['label'] = df_train.apply(lambda row: 1 \n",
    "                                 if ((row['x_exit'] >= 3750901.5068) & (row['x_exit'] <= 3770901.5068) & \n",
    "                                     (row['y_exit'] >= -19268905.6133) & (row['y_exit'] <= -19208905.6133)) \n",
    "                                 else 0, axis=1)\n",
    "df_test['label']= -1\n",
    "df_test['label'] = df_test.apply(lambda row: 1 \n",
    "                                 if ((row['duration'] == 0.0)&(math.isnan(row['x_exit'])) & (math.isnan(row['y_exit'])) &\n",
    "                                      (row['x_entry'] >= 3750901.5068) & (row['x_entry'] <= 3770901.5068) & \n",
    "                                      (row['y_entry'] >= -19268905.6133) & (row['y_entry'] <= -19208905.6133)) \n",
    "                                 else row['label'], axis=1)\n",
    "df_test['label'] = df_test.apply(lambda row: 0 \n",
    "                                 if ((row['duration'] == 0.0)&(math.isnan(row['x_exit'])) & (math.isnan(row['y_exit'])) &\n",
    "                                     (row['label'] == -1))\n",
    "                                 else row['label'], axis=1)"
   ]
  },
  {
   "cell_type": "code",
   "execution_count": null,
   "metadata": {},
   "outputs": [],
   "source": [
    "test = df_test[(df_test['duration'] != 0.0) & (df_test.x_exit.isnull()) & (df_test.y_exit.isnull())]\n",
    "start_time = '0 days 15:00:00'\n",
    "end_time = '0 days 16:00:00'\n",
    "dd = df_train[(df_train['time_exit'] >= start_time) & (df_train['time_exit'] <= end_time)]\n",
    "dd[(dd['duration'] == 0.0) & (dd['x_exit'] >= 3750901.5068) & \n",
    "         (dd['x_exit'] <= 3770901.5068) & (dd['y_exit'] >= -19268905.6133) & \n",
    "         (dd['y_exit'] <= -19208905.6133)].label.value_counts()\n",
    "dd[(dd['duration'] == 0.0) & ((dd['x_exit'] < 3750901.5068) | \n",
    "         (dd['x_exit'] > 3770901.5068)) & ((dd['y_exit'] < -19268905.6133) | \n",
    "         (dd['y_exit'] > -19208905.6133))].label.value_counts()\n",
    "dd_1 = dd[(dd['duration'] != 0.0) & (dd['x_exit'] >= 3750901.5068) & \n",
    "         (dd['x_exit'] <= 3770901.5068) & (dd['y_exit'] >= -19268905.6133) & \n",
    "         (dd['y_exit'] <= -19208905.6133)]\n",
    "train = dd[dd['duration'] != 0.0]"
   ]
  },
  {
   "cell_type": "code",
   "execution_count": null,
   "metadata": {},
   "outputs": [],
   "source": [
    "df = df_train.groupby('hash')\n",
    "df_list = list(df)\n",
    "df_2 = df_test.groupby('hash')\n",
    "df_2_list = list(df_2)"
   ]
  },
  {
   "cell_type": "code",
   "execution_count": null,
   "metadata": {},
   "outputs": [],
   "source": [
    "tt = df_train[(df_train['x_exit'] >= 3750901.5068) & (df_train['x_exit'] <= 3770901.5068) & \n",
    "              (df_train['y_exit'] >= -19268905.6133) & (df_train['y_exit'] <= -19208905.6133)]\n",
    "tt2 = df_test[(df_test['x_exit'] >= 3750901.5068) & (df_test['x_exit'] <= 3770901.5068) & \n",
    "              (df_test['y_exit'] >= -19268905.6133) & (df_test['y_exit'] <= -19208905.6133)]"
   ]
  },
  {
   "cell_type": "markdown",
   "metadata": {},
   "source": [
    "# Plottings"
   ]
  },
  {
   "cell_type": "code",
   "execution_count": null,
   "metadata": {},
   "outputs": [],
   "source": [
    "def plot_trajectory(df_sample):\n",
    "    rect = patches.Rectangle((3750901.5068,-19208905.6133), (3770901.5068 - 3750901.5068),\n",
    "                             (- 19268905.6133 + 19208905.6133),\n",
    "                             linewidth=1,edgecolor='g',fill = False,hatch = '\\\\\\\\\\\\', label = 'city center')\n",
    "    city = plt.gca().add_patch(rect)\n",
    "    for index, row in df_sample.iterrows():\n",
    "#         lines = plt.plot(df_sample.x_exit,df_sample.y_exit, label='Lines', color = 'g')\n",
    "        arrows = plt.arrow(row['x_entry'], row['y_entry'], row['x_exit'] - row['x_entry'], row['y_exit'] - row['y_entry'],\n",
    "                  label ='Trajectory', color = 'b')\n",
    "    entries = plt.scatter(df_sample.x_entry,df_sample.y_entry, label='Entry point', color = 'b')\n",
    "    exits = plt.scatter(df_sample.x_exit,df_sample.y_exit, label='Exit point', color = 'r')\n",
    "#     lines = plt.plot(df_sample.x_exit,df_sample.y_exit, label='Lines', color = 'g')\n",
    "    plt.legend(handles=[city, arrows])\n",
    "    plt.grid(True)\n",
    "    plt.show()"
   ]
  },
  {
   "cell_type": "code",
   "execution_count": null,
   "metadata": {},
   "outputs": [],
   "source": [
    "def plot_fig(train):\n",
    "    rect = patches.Rectangle((3750901.5068,-19208905.6133), (3770901.5068 - 3750901.5068),\n",
    "                                 (- 19268905.6133 + 19208905.6133),\n",
    "                                 linewidth=1,edgecolor='g',fill = False,hatch = '\\\\\\\\\\\\', label = 'city center')\n",
    "    entries = plt.scatter(train.x_entry,train.y_entry, label='Entry point', color = 'b', s = 0.0002)\n",
    "#     exits = plt.scatter(train.x_exit,train.y_exit, label='Exit point', color = 'r', s = 0.00002)\n",
    "    for index, row in train.iterrows():\n",
    "        if(row['label'] == 0):\n",
    "            arrows1 = plt.arrow(row['x_entry'], row['y_entry'], row['x_exit'] - row['x_entry'], row['y_exit'] - row['y_entry'],\n",
    "                      label ='Not in City', color = 'b', linewidth = 0.001)\n",
    "#         else:\n",
    "#             arrows2 = plt.arrow(row['x_entry'], row['y_entry'], row['x_exit'] - row['x_entry'], row['y_exit'] - row['y_entry'],\n",
    "#                       label ='In City', color = 'r', linewidth = 0.00005)\n",
    "    city = plt.gca().add_patch(rect)\n",
    "    plt.legend(handles = [arrows1, city, entries])\n",
    "    plt.title(\"Not in city journeys\")\n",
    "    plt.grid(True)\n",
    "    plt.savefig('foo.png', dpi=1200)\n",
    "    plt.show()"
   ]
  },
  {
   "cell_type": "code",
   "execution_count": null,
   "metadata": {},
   "outputs": [],
   "source": [
    "def plot_test_fig(sample):\n",
    "    rect = patches.Rectangle((3750901.5068,-19208905.6133), (3770901.5068 - 3750901.5068),\n",
    "                                 (- 19268905.6133 + 19208905.6133),\n",
    "                                 linewidth=1,edgecolor='g',fill = False,hatch = '\\\\\\\\\\\\', label = 'city center')\n",
    "    entries = plt.scatter(sample.x_entry,sample.y_entry, label='Entry point', color = 'b', s = 0.002)\n",
    "    city = plt.gca().add_patch(rect)\n",
    "    plt.legend(handles = [city,entries])\n",
    "    plt.title(\"All test starting point in map\")\n",
    "    plt.grid(True)\n",
    "    plt.savefig('foo1.png', dpi=1200)\n",
    "    plt.show()"
   ]
  },
  {
   "cell_type": "code",
   "execution_count": null,
   "metadata": {},
   "outputs": [],
   "source": [
    "plot_trajectory(df_list[100][1])"
   ]
  },
  {
   "cell_type": "markdown",
   "metadata": {},
   "source": [
    "# Test Explore"
   ]
  },
  {
   "cell_type": "code",
   "execution_count": null,
   "metadata": {},
   "outputs": [],
   "source": [
    "df_test[(df_test.x_exit.isnull()) & (df_test.y_exit.isnull())].duration.describe()"
   ]
  },
  {
   "cell_type": "code",
   "execution_count": null,
   "metadata": {},
   "outputs": [],
   "source": [
    "df_test[(df_test['duration'] > 0) & (df_test['duration'] < 5000) & (df_test.x_exit.isnull()) & (df_test.y_exit.isnull())].duration.describe()"
   ]
  },
  {
   "cell_type": "code",
   "execution_count": null,
   "metadata": {},
   "outputs": [],
   "source": [
    "plt.scatter(df_train[df_train['velocity'] != 0.0].distance, df_train[df_train['velocity'] != 0.0].duration)"
   ]
  },
  {
   "cell_type": "code",
   "execution_count": null,
   "metadata": {},
   "outputs": [],
   "source": [
    "df_test[df_test.x_exit.isnull()]['label'].value_counts()"
   ]
  },
  {
   "cell_type": "code",
   "execution_count": null,
   "metadata": {},
   "outputs": [],
   "source": [
    "df_test['label'] = df_test['label'].replace(-1,0)"
   ]
  },
  {
   "cell_type": "code",
   "execution_count": null,
   "metadata": {},
   "outputs": [],
   "source": [
    "df_test[df_test.x_exit.isnull()][['trajectory_id', 'label']].to_csv('output.csv', index=False)"
   ]
  },
  {
   "cell_type": "markdown",
   "metadata": {},
   "source": [
    "# Train explore"
   ]
  },
  {
   "cell_type": "code",
   "execution_count": null,
   "metadata": {},
   "outputs": [],
   "source": [
    "df_train[(df_train['duration'] == 0.0) & ((df_train['x_entry'] != df_train['x_exit']) |\n",
    "         (df_train['y_entry'] != df_train['y_exit']))]"
   ]
  },
  {
   "cell_type": "code",
   "execution_count": null,
   "metadata": {},
   "outputs": [],
   "source": [
    "df_train[(df_train['duration'] == 0.0) & (df_train['x_entry'] == df_train['x_exit']) &\n",
    "         (df_train['y_entry'] == df_train['y_exit'])].shape[0]"
   ]
  },
  {
   "cell_type": "code",
   "execution_count": null,
   "metadata": {},
   "outputs": [],
   "source": [
    "df_train.label.value_counts()"
   ]
  },
  {
   "cell_type": "code",
   "execution_count": null,
   "metadata": {},
   "outputs": [],
   "source": [
    "df_train[(df_train['duration'] == 0.0) & (df_train['x_exit'] >= 3750901.5068) & \n",
    "         (df_train['x_exit'] <= 3770901.5068) & (df_train['y_exit'] >= -19268905.6133) & \n",
    "         (df_train['y_exit'] <= -19208905.6133)]"
   ]
  },
  {
   "cell_type": "markdown",
   "metadata": {},
   "source": [
    "# Explorations"
   ]
  },
  {
   "cell_type": "code",
   "execution_count": null,
   "metadata": {},
   "outputs": [],
   "source": [
    "ax = sns.scatterplot(x=\"duration\", y=\"city_distance\", hue = 'label', data=dd[(dd['duration']!=0)&(dd['label'] == 1)])"
   ]
  },
  {
   "cell_type": "code",
   "execution_count": null,
   "metadata": {},
   "outputs": [],
   "source": [
    "plt.clf()\n",
    "plot_trajectory(dd_1)"
   ]
  },
  {
   "cell_type": "code",
   "execution_count": null,
   "metadata": {},
   "outputs": [],
   "source": [
    "plt.clf()\n",
    "plot_fig(train[train['label'] == 0])"
   ]
  },
  {
   "cell_type": "code",
   "execution_count": null,
   "metadata": {},
   "outputs": [],
   "source": [
    "plt.clf()\n",
    "plot_test_fig(df_test[(df_test['duration'] > 0) & (df_test.x_exit.isnull()) & (df_test.y_exit.isnull())])"
   ]
  },
  {
   "cell_type": "code",
   "execution_count": null,
   "metadata": {},
   "outputs": [],
   "source": [
    "plt.scatter(df_train[df_train['duration']!= 0.0].duration, df_train[df_train['duration']!= 0.0].distance,\n",
    "            label='Entry point', color = 'b', s= 0.01)"
   ]
  },
  {
   "cell_type": "code",
   "execution_count": null,
   "metadata": {},
   "outputs": [],
   "source": [
    "plt.clf()\n",
    "df_train[(df_train['velocity'] != 0.0)&(df_train['velocity'] < 100.0)].velocity.hist()"
   ]
  },
  {
   "cell_type": "code",
   "execution_count": null,
   "metadata": {},
   "outputs": [],
   "source": [
    "plt.scatter(test.city_distance, test.duration, color = 'b', s = 0.01)"
   ]
  },
  {
   "cell_type": "code",
   "execution_count": null,
   "metadata": {},
   "outputs": [],
   "source": [
    "plt.clf()\n",
    "plt.scatter(train[train['label'] == 0].city_distance, train[train['label'] == 0].duration, color = 'r', s = 0.0001)\n",
    "plt.scatter(train[train['label'] == 1].city_distance, train[train['label'] == 1].duration, color = 'b', s = 0.0001)"
   ]
  },
  {
   "cell_type": "code",
   "execution_count": null,
   "metadata": {},
   "outputs": [],
   "source": [
    "ax = sns.scatterplot(x=\"city_distance\", y=\"duration\", hue = 'label', data=train, s=5)"
   ]
  }
 ],
 "metadata": {
  "kernelspec": {
   "display_name": "Python 3",
   "language": "python",
   "name": "python3"
  },
  "language_info": {
   "codemirror_mode": {
    "name": "ipython",
    "version": 3
   },
   "file_extension": ".py",
   "mimetype": "text/x-python",
   "name": "python",
   "nbconvert_exporter": "python",
   "pygments_lexer": "ipython3",
   "version": "3.6.8"
  }
 },
 "nbformat": 4,
 "nbformat_minor": 2
}
