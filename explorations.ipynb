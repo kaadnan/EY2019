{
 "cells": [
  {
   "cell_type": "code",
   "execution_count": 1,
   "metadata": {},
   "outputs": [],
   "source": [
    "import pandas as pd\n",
    "import pickle\n",
    "import matplotlib.pyplot as plt\n",
    "import matplotlib.patches as patches\n",
    "from shapely.geometry import Polygon, Point, LinearRing, box\n",
    "import matplotlib.cm as cmx\n",
    "# import seaborn as sns; sns.set()\n",
    "import math\n",
    "%matplotlib notebook"
   ]
  },
  {
   "cell_type": "code",
   "execution_count": null,
   "metadata": {},
   "outputs": [],
   "source": [
    "poly = box(3750901.5068,-19268905.6133, 3770901.5068, -19208905.6133)\n",
    "\n",
    "def city_distance(x, y):\n",
    "    if ((x >= 3750901.5068) & (x <= 3770901.5068) & (y >= -19268905.6133) & (y <= -19208905.6133)):\n",
    "        point = Point(x, y)\n",
    "        pol_ext = LinearRing(poly.exterior.coords)\n",
    "        d = pol_ext.project(point)\n",
    "        p = pol_ext.interpolate(d)\n",
    "        closest_point_coords = list(p.coords)[0]\n",
    "        \n",
    "        return -point.distance(Point(closest_point_coords))\n",
    "    else:\n",
    "        point = Point(x, y)\n",
    "        pol_ext = LinearRing(poly.exterior.coords)\n",
    "        d = pol_ext.project(point)\n",
    "        p = pol_ext.interpolate(d)\n",
    "        closest_point_coords = list(p.coords)[0]\n",
    "        \n",
    "        return point.distance(Point(closest_point_coords))"
   ]
  },
  {
   "cell_type": "code",
   "execution_count": null,
   "metadata": {},
   "outputs": [],
   "source": [
    "df_train = pd.read_csv(\"../../data/data_train.csv\")\n",
    "df_test = pd.read_csv(\"../../data/data_test.csv\")\n",
    "df_train['time_entry'] = pd.to_timedelta(df_train['time_entry'])\n",
    "df_train['time_exit'] = pd.to_timedelta(df_train['time_exit'])\n",
    "df_test['time_entry'] = pd.to_timedelta(df_test['time_entry'])\n",
    "df_test['time_exit'] = pd.to_timedelta(df_test['time_exit'])\n",
    "df_train['duration'] = df_train['time_exit'] - df_train['time_entry']\n",
    "df_train['duration'] = df_train['duration'].dt.total_seconds()\n",
    "df_test['duration'] = df_test['time_exit'] - df_test['time_entry']\n",
    "df_test['duration'] = df_test['duration'].dt.total_seconds()\n",
    "df_train['distance'] = df_train.apply(lambda row: Point(row['x_entry'],row['y_entry']).\n",
    "                                      distance(Point(row['x_exit'],row['y_exit'])), axis=1)\n",
    "df_train['velocity'] = df_train.apply(lambda row: (row['distance']/row['duration'])\n",
    "                                      if row['duration']!= 0.0 else 0.0, axis=1)\n",
    "df_test['distance'] = df_test.apply(lambda row: Point(row['x_entry'],row['y_entry']).\n",
    "                                      distance(Point(row['x_exit'],row['y_exit'])) if ~np.isnan(row['x_exit'])\n",
    "                                     else np.nan, axis=1)\n",
    "df_test['velocity'] = df_test.apply(lambda row: (row['distance']/row['duration'])\n",
    "                                      if (row['duration']!= 0.0 and ~np.isnan(row['x_exit'])) else 0.0, axis=1)"
   ]
  },
  {
   "cell_type": "code",
   "execution_count": null,
   "metadata": {},
   "outputs": [],
   "source": [
    "df_test['city_distance'] = df_test.apply(lambda row: city_distance(row['x_entry'], row['y_entry']), axis = 1)\n",
    "df_train['city_distance'] = df_train.apply(lambda row: city_distance(row['x_entry'], row['y_entry']), axis = 1)\n",
    "print(\"*****City Distance done*****\")\n",
    "df_train['ratio'] = df_train.apply(lambda row: (row['city_distance']/row['duration'])\n",
    "                                      if row['duration']!= 0.0 else 0.0, axis=1)\n",
    "df_test['ratio'] = df_test.apply(lambda row: (row['city_distance']/row['duration'])\n",
    "                                      if row['duration']!= 0.0 else 0.0, axis=1)\n",
    "print(\"*****Ratio done*****\")\n",
    "df_train['label']= -1\n",
    "df_train['label'] = df_train.apply(lambda row: 1 \n",
    "                                 if ((row['x_exit'] >= 3750901.5068) & (row['x_exit'] <= 3770901.5068) & \n",
    "                                     (row['y_exit'] >= -19268905.6133) & (row['y_exit'] <= -19208905.6133)) \n",
    "                                 else 0, axis=1)\n",
    "df_test['label']= -1\n",
    "df_test['label'] = df_test.apply(lambda row: 1 \n",
    "                                 if ((row['duration'] == 0.0)&(math.isnan(row['x_exit'])) & (math.isnan(row['y_exit'])) &\n",
    "                                      (row['x_entry'] >= 3750901.5068) & (row['x_entry'] <= 3770901.5068) & \n",
    "                                      (row['y_entry'] >= -19268905.6133) & (row['y_entry'] <= -19208905.6133)) \n",
    "                                 else row['label'], axis=1)\n",
    "df_test['label'] = df_test.apply(lambda row: 0 \n",
    "                                 if ((row['duration'] == 0.0)&(math.isnan(row['x_exit'])) & (math.isnan(row['y_exit'])) &\n",
    "                                     (row['label'] == -1))\n",
    "                                 else row['label'], axis=1)\n",
    "print(\"*****Label done*****\")"
   ]
  },
  {
   "cell_type": "code",
   "execution_count": 5,
   "metadata": {},
   "outputs": [],
   "source": [
    "df_train.to_pickle('df_train')\n",
    "df_test.to_pickle('df_test')"
   ]
  },
  {
   "cell_type": "code",
   "execution_count": 6,
   "metadata": {},
   "outputs": [],
   "source": [
    "test = df_test[(df_test['duration'] != 0.0) & (df_test.x_exit.isnull()) & (df_test.y_exit.isnull())]\n",
    "# start_time = '0 days 15:00:00'\n",
    "# end_time = '0 days 16:00:00'\n",
    "# dd = df_train[(df_train['time_exit'] >= start_time) & (df_train['time_exit'] <= end_time)]\n",
    "# dd[(dd['duration'] == 0.0) & (dd['x_exit'] >= 3750901.5068) & \n",
    "#          (dd['x_exit'] <= 3770901.5068) & (dd['y_exit'] >= -19268905.6133) & \n",
    "#          (dd['y_exit'] <= -19208905.6133)].label.value_counts()\n",
    "# dd[(dd['duration'] == 0.0) & ((dd['x_exit'] < 3750901.5068) | \n",
    "#          (dd['x_exit'] > 3770901.5068)) & ((dd['y_exit'] < -19268905.6133) | \n",
    "#          (dd['y_exit'] > -19208905.6133))].label.value_counts()\n",
    "# dd_1 = dd[(dd['duration'] != 0.0) & (dd['x_exit'] >= 3750901.5068) & \n",
    "#          (dd['x_exit'] <= 3770901.5068) & (dd['y_exit'] >= -19268905.6133) & \n",
    "#          (dd['y_exit'] <= -19208905.6133)]\n",
    "train = df_train[df_train['duration'] != 0.0]"
   ]
  },
  {
   "cell_type": "code",
   "execution_count": null,
   "metadata": {},
   "outputs": [],
   "source": [
    "train.head()"
   ]
  },
  {
   "cell_type": "code",
   "execution_count": 7,
   "metadata": {},
   "outputs": [],
   "source": [
    "train.to_pickle('train')\n",
    "test.to_pickle('test')"
   ]
  },
  {
   "cell_type": "code",
   "execution_count": null,
   "metadata": {},
   "outputs": [],
   "source": [
    "df = df_train.groupby('hash')\n",
    "df_list = list(df)\n",
    "df_2 = df_test.groupby('hash')\n",
    "df_2_list = list(df_2)\n",
    "# df.to_pickle('df_list')\n",
    "# df_2.to_pickle('df_2_list')"
   ]
  },
  {
   "cell_type": "code",
   "execution_count": 2,
   "metadata": {},
   "outputs": [],
   "source": [
    "df_train = pd.read_pickle('df_train')\n",
    "df_test = pd.read_pickle('df_test')"
   ]
  },
  {
   "cell_type": "code",
   "execution_count": 4,
   "metadata": {},
   "outputs": [],
   "source": [
    "df_train['count'] = df_train.groupby('hash')['hash'].transform('count')\n",
    "df_test['count'] = df_test.groupby('hash')['hash'].transform('count')"
   ]
  },
  {
   "cell_type": "code",
   "execution_count": null,
   "metadata": {},
   "outputs": [],
   "source": [
    "train.shape"
   ]
  },
  {
   "cell_type": "code",
   "execution_count": null,
   "metadata": {},
   "outputs": [],
   "source": [
    "len(df_train.groupby(['hash']).agg('count')['trajectory_id'].values)"
   ]
  },
  {
   "cell_type": "code",
   "execution_count": 8,
   "metadata": {},
   "outputs": [],
   "source": [
    "start_time = '0 days 15:00:00'\n",
    "end_time = '0 days 16:00:00'\n",
    "# df_train = pd.read_pickle('df_train')\n",
    "# df_test = pd.read_pickle('df_test')\n",
    "train = pd.read_pickle('train')\n",
    "test = pd.read_pickle('test')\n",
    "\n",
    "# df_train['hour'] = df_train['time_entry'] / np.timedelta64(1, 'h')\n",
    "# df_test['hour'] = df_test['time_entry'] / np.timedelta64(1, 'h')\n",
    "\n",
    "# test['count'] = df_test.loc[df_test['hash'].isin(test.hash.values)].groupby(['hash']).agg('count')['trajectory_id'].values\n",
    "# train['count'] = df_train.loc[df_train['hash'].isin(train.hash.values)].groupby(['hash']).agg('count')['trajectory_id'].values\n",
    "\n",
    "all_test = df_test.loc[df_test['hash'].isin(test.hash.values)]\n",
    "all_train = df_train.loc[df_train['hash'].isin(train.hash.values)]\n",
    "test_start_not_in_city = test[~(((test['x_entry'] >= 3750901.5068) &\n",
    "         (test['x_entry'] <= 3770901.5068)) & ((test['y_entry'] >= -19268905.6133) &\n",
    "         (test['y_entry'] <= -19208905.6133)))]\n",
    "test_start_in_city = test[((test['x_entry'] >= 3750901.5068) &\n",
    "         (test['x_entry'] <= 3770901.5068)) & ((test['y_entry'] >= -19268905.6133) &\n",
    "         (test['y_entry'] <= -19208905.6133))]\n",
    "train_not_in_city_1 = train[(~((train['x_entry'] >= 3750901.5068) &\n",
    "         (train['x_entry'] <= 3770901.5068) & (train['y_entry'] >= -19268905.6133) &\n",
    "         (train['y_entry'] <= -19208905.6133))&(train['label'] == 1))]\n",
    "train_not_in_city_0 = train[(~((train['x_entry'] >= 3750901.5068) &\n",
    "         (train['x_entry'] <= 3770901.5068) & (train['y_entry'] >= -19268905.6133) &\n",
    "         (train['y_entry'] <= -19208905.6133))&(train['label'] == 0))]\n",
    "train_in_city_0 = train[(((train['x_entry'] >= 3750901.5068) &\n",
    "         (train['x_entry'] <= 3770901.5068) & (train['y_entry'] >= -19268905.6133) &\n",
    "         (train['y_entry'] <= -19208905.6133))&(train['label'] == 0))]\n",
    "train_in_city_1 = train[(((train['x_entry'] >= 3750901.5068) &\n",
    "         (train['x_entry'] <= 3770901.5068) & (train['y_entry'] >= -19268905.6133) &\n",
    "         (train['y_entry'] <= -19208905.6133))&(train['label'] == 1))]"
   ]
  },
  {
   "cell_type": "code",
   "execution_count": null,
   "metadata": {},
   "outputs": [],
   "source": [
    "tt = df_train[(df_train['x_exit'] >= 3750901.5068) & (df_train['x_exit'] <= 3770901.5068) & \n",
    "              (df_train['y_exit'] >= -19268905.6133) & (df_train['y_exit'] <= -19208905.6133)]\n",
    "tt2 = df_test[(df_test['x_exit'] >= 3750901.5068) & (df_test['x_exit'] <= 3770901.5068) & \n",
    "              (df_test['y_exit'] >= -19268905.6133) & (df_test['y_exit'] <= -19208905.6133)]"
   ]
  },
  {
   "cell_type": "code",
   "execution_count": null,
   "metadata": {},
   "outputs": [],
   "source": [
    "print(len(all_test.groupby(['hash']).filter(lambda x: len(x)==1).groupby('hash')))\n",
    "print(len(all_test.groupby(['hash']).filter(lambda x: len(x)==2).groupby('hash')))\n",
    "print(len(all_test.groupby(['hash']).filter(lambda x: len(x)==3).groupby('hash')))\n",
    "print(len(all_test.groupby(['hash']).filter(lambda x: len(x)==4).groupby('hash')))\n",
    "print(len(all_test.groupby(['hash']).filter(lambda x: len(x)==5).groupby('hash')))"
   ]
  },
  {
   "cell_type": "code",
   "execution_count": null,
   "metadata": {},
   "outputs": [],
   "source": [
    "print(len(all_test.groupby(['hash']).filter(lambda x: len(x)==6).groupby('hash')))\n",
    "print(len(all_test.groupby(['hash']).filter(lambda x: len(x)==7).groupby('hash')))\n",
    "print(len(all_test.groupby(['hash']).filter(lambda x: len(x)==8).groupby('hash')))\n",
    "print(len(all_test.groupby(['hash']).filter(lambda x: len(x)==9).groupby('hash')))\n",
    "print(len(all_test.groupby(['hash']).filter(lambda x: len(x)==10).groupby('hash')))\n",
    "print(len(all_test.groupby(['hash']).filter(lambda x: len(x)==11).groupby('hash')))"
   ]
  },
  {
   "cell_type": "code",
   "execution_count": null,
   "metadata": {},
   "outputs": [],
   "source": [
    "# plt.clf()\n",
    "# (all_test.groupby(['hash']).agg('count')['trajectory_id'].hist(bins = 20))"
   ]
  },
  {
   "cell_type": "markdown",
   "metadata": {},
   "source": [
    "# Plottings"
   ]
  },
  {
   "cell_type": "code",
   "execution_count": null,
   "metadata": {},
   "outputs": [],
   "source": [
    "def plot_trajectory(df_sample):\n",
    "    rect = patches.Rectangle((3750901.5068,-19208905.6133), (3770901.5068 - 3750901.5068),\n",
    "                             (- 19268905.6133 + 19208905.6133),\n",
    "                             linewidth=1,edgecolor='g',fill = False,hatch = '\\\\\\\\\\\\', label = 'city center')\n",
    "    city = plt.gca().add_patch(rect)\n",
    "    for index, row in df_sample.iterrows():\n",
    "#         lines = plt.plot(df_sample.x_exit,df_sample.y_exit, label='Lines', color = 'g')\n",
    "        arrows = plt.arrow(row['x_entry'], row['y_entry'], row['x_exit'] - row['x_entry'], row['y_exit'] - row['y_entry'],\n",
    "                  label ='Trajectory', color = 'b')\n",
    "    entries = plt.scatter(df_sample.x_entry,df_sample.y_entry, label='Entry point', color = 'b')\n",
    "    exits = plt.scatter(df_sample.x_exit,df_sample.y_exit, label='Exit point', color = 'r')\n",
    "#     lines = plt.plot(df_sample.x_exit,df_sample.y_exit, label='Lines', color = 'g')\n",
    "    plt.legend(handles=[city, arrows])\n",
    "    plt.grid(True)\n",
    "    plt.show()"
   ]
  },
  {
   "cell_type": "code",
   "execution_count": null,
   "metadata": {},
   "outputs": [],
   "source": [
    "def plot_fig(train):\n",
    "    fig, ax = plt.subplots(2,1)\n",
    "#     rect = patches.Rectangle((3750901.5068,-19208905.6133), (3770901.5068 - 3750901.5068),\n",
    "#                                  (- 19268905.6133 + 19208905.6133),\n",
    "#                                  linewidth=1,edgecolor='g',fill = False,hatch = '\\\\\\\\\\\\', label = 'city center')\n",
    "    ax[0].scatter(train.x_entry,train.y_entry, label='Entry point', color = 'b', s = 0.05)\n",
    "    ax[0].axis('off')\n",
    "    ax[1].scatter(train.x_exit,train.y_exit, label='Exit point', color = 'r', s = 0.05)\n",
    "    ax[1].axis('off')\n",
    "#     ax[0].gca().add_patch(rect)\n",
    "#     ax[1].gca().add_patch(rect)"
   ]
  },
  {
   "cell_type": "code",
   "execution_count": null,
   "metadata": {},
   "outputs": [],
   "source": [
    "def plot_fig_entry(train):\n",
    "#     cmap = sns.cubehelix_palette(8, start=.5, rot=-.75, as_cmap=True)\n",
    "    rect = patches.Rectangle((3750901.5068,-19208905.6133), (3770901.5068 - 3750901.5068),\n",
    "                                 (- 19268905.6133 + 19208905.6133),\n",
    "                                 linewidth=1,edgecolor='g',fill = False, label = 'city center')\n",
    "    entries = plt.scatter(train.x_entry,train.y_entry, label='Entry point', c = 'b', s=0.05)\n",
    "#     exits = plt.scatter(train.x_exit,train.y_exit, label='Exit point', c = train.velocity, s = 0.05, cmap=cmap)\n",
    "#     for index, row in train.iterrows():\n",
    "#         arrows = plt.arrow(row['x_entry'], row['y_entry'], row['x_exit'] - row['x_entry'], row['y_exit'] - row['y_entry'],\n",
    "#                   label ='Not in City', color = 'b', linewidth = 0.01)\n",
    "    city = plt.gca().add_patch(rect)\n",
    "    plt.legend(handles = [city])\n",
    "#     plt.colorbar(entries)\n",
    "    plt.grid(True)\n",
    "#     plt.savefig('foo.png', dpi=1200)\n",
    "    plt.show()"
   ]
  },
  {
   "cell_type": "code",
   "execution_count": null,
   "metadata": {},
   "outputs": [],
   "source": [
    "def plot_fig_exits(train):\n",
    "    cmap = sns.cubehelix_palette(8, start=.5, rot=-.75, as_cmap=True)\n",
    "    rect = patches.Rectangle((3750901.5068,-19208905.6133), (3770901.5068 - 3750901.5068),\n",
    "                                 (- 19268905.6133 + 19208905.6133),\n",
    "                                 linewidth=1,edgecolor='g',fill = False, label = 'city center')\n",
    "#     entries = plt.scatter(train.x_entry,train.y_entry, label='Entry point', c = train.velocity, s=0.05, cmap=cmap)\n",
    "    exits = plt.scatter(train.x_exit,train.y_exit, label='Exit point', c = 'r', s = 0.05)\n",
    "#     for index, row in train.iterrows():\n",
    "#         arrows = plt.arrow(row['x_entry'], row['y_entry'], row['x_exit'] - row['x_entry'], row['y_exit'] - row['y_entry'],\n",
    "#                   label ='Not in City', color = 'b', linewidth = 0.01)\n",
    "    city = plt.gca().add_patch(rect)\n",
    "    plt.legend(handles = [city])\n",
    "    plt.colorbar(entries)\n",
    "    plt.grid(True)\n",
    "#     plt.savefig('foo.png', dpi=1200)\n",
    "    plt.show()"
   ]
  },
  {
   "cell_type": "code",
   "execution_count": null,
   "metadata": {},
   "outputs": [],
   "source": [
    "def plot_test_fig(sample):\n",
    "    rect = patches.Rectangle((3750901.5068,-19208905.6133), (3770901.5068 - 3750901.5068),\n",
    "                                 (- 19268905.6133 + 19208905.6133),\n",
    "                                 linewidth=1,edgecolor='g',fill = False,hatch = '\\\\\\\\\\\\', label = 'city center')\n",
    "    entries = plt.scatter(sample.x_entry,sample.y_entry, label='Entry point', color = 'b', s = 0.002)\n",
    "    city = plt.gca().add_patch(rect)\n",
    "    plt.legend(handles = [city,entries])\n",
    "    plt.title(\"All test starting point in map\")\n",
    "    plt.grid(True)\n",
    "    plt.savefig('foo1.png', dpi=1200)\n",
    "    plt.show()"
   ]
  },
  {
   "cell_type": "code",
   "execution_count": null,
   "metadata": {},
   "outputs": [],
   "source": [
    "plot_trajectory(df_list[100][1])"
   ]
  },
  {
   "cell_type": "code",
   "execution_count": null,
   "metadata": {},
   "outputs": [],
   "source": [
    "def plot_point(row):\n",
    "    rect = patches.Rectangle((3750901.5068,-19208905.6133), (3770901.5068 - 3750901.5068),\n",
    "                             (- 19268905.6133 + 19208905.6133),\n",
    "                             linewidth=1,edgecolor='g',fill = False,hatch = '\\\\\\\\\\\\', label = 'city center')\n",
    "    city = plt.gca().add_patch(rect)\n",
    "    entries = plt.scatter(row['x_entry'],row['y_entry'], label='Entry point', color = 'b')\n",
    "    plt.legend(handles=[city, entries])\n",
    "    plt.grid(True)\n",
    "    plt.show()"
   ]
  },
  {
   "cell_type": "code",
   "execution_count": null,
   "metadata": {},
   "outputs": [],
   "source": [
    "def plot_row(row):\n",
    "    rect = patches.Rectangle((3750901.5068,-19208905.6133), (3770901.5068 - 3750901.5068),\n",
    "                             (- 19268905.6133 + 19208905.6133),\n",
    "                             linewidth=1,edgecolor='g',fill = False, label = 'city center')\n",
    "    city = plt.gca().add_patch(rect)\n",
    "#     arrows = plt.plot([row['x_entry'], row['x_exit']], [row['y_entry'], row['y_exit']], \n",
    "#                       label ='Trajectory', color = 'b')\n",
    "    entries = plt.scatter(row['x_entry'],row['y_entry'], label='Entry point', color = 'b')\n",
    "    exits = plt.scatter(row['x_exit'],row['y_exit'], label='Exit point', color = 'r')\n",
    "    \n",
    "    point = Point(row['x_entry'], row['y_entry'])\n",
    "    pol_ext = LinearRing(poly.exterior.coords)\n",
    "    d = pol_ext.project(point)\n",
    "    p = pol_ext.interpolate(d)\n",
    "    closest_point_coords = list(p.coords)[0]\n",
    "    print(p.distance(point), poly.boundary.distance(point), p)\n",
    "    \n",
    "    cityClose = plt.scatter(closest_point_coords[0],closest_point_coords[1], label='closest boundary', color = 'y')\n",
    "#     plt.legend(handles=[city,entries, exits, cityClose])\n",
    "    plt.grid(True)\n",
    "    plt.show()"
   ]
  },
  {
   "cell_type": "markdown",
   "metadata": {},
   "source": [
    "# Test Explore"
   ]
  },
  {
   "cell_type": "code",
   "execution_count": null,
   "metadata": {},
   "outputs": [],
   "source": [
    "df_test[(df_test.x_exit.isnull()) & (df_test.y_exit.isnull())].duration.describe()"
   ]
  },
  {
   "cell_type": "code",
   "execution_count": null,
   "metadata": {},
   "outputs": [],
   "source": [
    "df_test[(df_test['duration'] > 0) & (df_test['duration'] < 5000) & (df_test.x_exit.isnull()) & (df_test.y_exit.isnull())].duration.describe()"
   ]
  },
  {
   "cell_type": "code",
   "execution_count": null,
   "metadata": {},
   "outputs": [],
   "source": [
    "plt.scatter(df_train[df_train['velocity'] != 0.0].distance, df_train[df_train['velocity'] != 0.0].duration)"
   ]
  },
  {
   "cell_type": "code",
   "execution_count": null,
   "metadata": {},
   "outputs": [],
   "source": [
    "df_test[df_test.x_exit.isnull()]['label'].value_counts()"
   ]
  },
  {
   "cell_type": "code",
   "execution_count": null,
   "metadata": {},
   "outputs": [],
   "source": [
    "df_test['label'] = df_test['label'].replace(-1,0)"
   ]
  },
  {
   "cell_type": "code",
   "execution_count": null,
   "metadata": {},
   "outputs": [],
   "source": [
    "df_test[df_test.x_exit.isnull()][['trajectory_id', 'label']].to_csv('output.csv', index=False)"
   ]
  },
  {
   "cell_type": "markdown",
   "metadata": {},
   "source": [
    "# Train explore"
   ]
  },
  {
   "cell_type": "code",
   "execution_count": null,
   "metadata": {},
   "outputs": [],
   "source": [
    "df_train[(df_train['duration'] == 0.0) & ((df_train['x_entry'] != df_train['x_exit']) |\n",
    "         (df_train['y_entry'] != df_train['y_exit']))]"
   ]
  },
  {
   "cell_type": "code",
   "execution_count": null,
   "metadata": {},
   "outputs": [],
   "source": [
    "df_train[(df_train['duration'] == 0.0) & (df_train['x_entry'] == df_train['x_exit']) &\n",
    "         (df_train['y_entry'] == df_train['y_exit'])].shape[0]"
   ]
  },
  {
   "cell_type": "code",
   "execution_count": null,
   "metadata": {},
   "outputs": [],
   "source": [
    "df_train.label.value_counts()"
   ]
  },
  {
   "cell_type": "code",
   "execution_count": null,
   "metadata": {},
   "outputs": [],
   "source": [
    "df_train[(df_train['duration'] == 0.0) & (df_train['x_exit'] >= 3750901.5068) & \n",
    "         (df_train['x_exit'] <= 3770901.5068) & (df_train['y_exit'] >= -19268905.6133) & \n",
    "         (df_train['y_exit'] <= -19208905.6133)]"
   ]
  },
  {
   "cell_type": "markdown",
   "metadata": {},
   "source": [
    "# Explorations"
   ]
  },
  {
   "cell_type": "code",
   "execution_count": null,
   "metadata": {},
   "outputs": [],
   "source": [
    "ax = sns.scatterplot(x=\"duration\", y=\"city_distance\", hue = 'label', data=dd[(dd['duration']!=0)&(dd['label'] == 1)])"
   ]
  },
  {
   "cell_type": "code",
   "execution_count": null,
   "metadata": {},
   "outputs": [],
   "source": [
    "plt.clf()\n",
    "plot_trajectory(dd_1)"
   ]
  },
  {
   "cell_type": "code",
   "execution_count": null,
   "metadata": {},
   "outputs": [],
   "source": [
    "plt.clf()\n",
    "plot_fig(train[train['label'] == 0])"
   ]
  },
  {
   "cell_type": "code",
   "execution_count": null,
   "metadata": {},
   "outputs": [],
   "source": [
    "plt.clf()\n",
    "plot_test_fig(df_test[(df_test['duration'] > 0) & (df_test.x_exit.isnull()) & (df_test.y_exit.isnull())])"
   ]
  },
  {
   "cell_type": "code",
   "execution_count": null,
   "metadata": {},
   "outputs": [],
   "source": [
    "plt.scatter(df_train[df_train['duration']!= 0.0].duration, df_train[df_train['duration']!= 0.0].distance,\n",
    "            label='Entry point', color = 'b', s= 0.01)"
   ]
  },
  {
   "cell_type": "code",
   "execution_count": null,
   "metadata": {},
   "outputs": [],
   "source": [
    "plt.clf()\n",
    "df_train[(df_train['velocity'] != 0.0)&(df_train['velocity'] < 100.0)].velocity.hist()"
   ]
  },
  {
   "cell_type": "code",
   "execution_count": null,
   "metadata": {},
   "outputs": [],
   "source": [
    "plt.scatter(test.city_distance, test.duration, color = 'b', s = 0.01)"
   ]
  },
  {
   "cell_type": "code",
   "execution_count": null,
   "metadata": {},
   "outputs": [],
   "source": [
    "plt.clf()\n",
    "plt.scatter(train[train['label'] == 0].city_distance, train[train['label'] == 0].duration, color = 'r', s = 0.0001)\n",
    "plt.scatter(train[train['label'] == 1].city_distance, train[train['label'] == 1].duration, color = 'b', s = 0.0001)"
   ]
  },
  {
   "cell_type": "code",
   "execution_count": null,
   "metadata": {},
   "outputs": [],
   "source": [
    "ax = sns.scatterplot(x=\"city_distance\", y=\"duration\", hue = 'label', data=train, s=5)"
   ]
  },
  {
   "cell_type": "code",
   "execution_count": null,
   "metadata": {},
   "outputs": [],
   "source": [
    "print(train_in_city_1.shape[0])\n",
    "plot_fig(train_not_in_city_0[train_not_in_city_0['city_distance']<16961.917751])"
   ]
  },
  {
   "cell_type": "code",
   "execution_count": null,
   "metadata": {},
   "outputs": [],
   "source": [
    "train_not_in_city_0[train_not_in_city_0['city_distance']<16961.917751]"
   ]
  },
  {
   "cell_type": "code",
   "execution_count": null,
   "metadata": {},
   "outputs": [],
   "source": [
    "plt.clf()\n",
    "plot_trajectory(df_train[df_train['hash'] == '0000cf177130469eeac79f67b6bcf3df_9'])"
   ]
  },
  {
   "cell_type": "markdown",
   "metadata": {},
   "source": [
    "# Write to file"
   ]
  },
  {
   "cell_type": "code",
   "execution_count": null,
   "metadata": {},
   "outputs": [],
   "source": [
    "# df_test['label']= -1\n",
    "# df_test['label'] = df_test.apply(lambda row: 1 \n",
    "#                                  if ((row['duration'] == 0.0)&(math.isnan(row['x_exit'])) & (math.isnan(row['y_exit'])) &\n",
    "#                                       (row['x_entry'] >= 3750901.5068) & (row['x_entry'] <= 3770901.5068) & \n",
    "#                                       (row['y_entry'] >= -19268905.6133) & (row['y_entry'] <= -19208905.6133)) \n",
    "#                                  else row['label'], axis=1)\n",
    "# df_test['label'] = df_test.apply(lambda row: 0 \n",
    "#                                  if ((row['duration'] == 0.0)&(math.isnan(row['x_exit'])) & (math.isnan(row['y_exit'])) &\n",
    "#                                      (row['label'] == -1))\n",
    "#                                  else row['label'], axis=1)\n",
    "\n",
    "df_test['label'] = df_test.apply(lambda row: 0 \n",
    "                                 if ((row['duration'] != 0.0)&(math.isnan(row['x_exit'])) &\n",
    "                                     (math.isnan(row['y_exit'])) &\n",
    "                                     (row['label'] == -1) &\n",
    "                                     ~(((row['x_entry'] >= 3750901.5068) &\n",
    "                                                               (row['x_entry'] <= 3770901.5068)) &\n",
    "                                       ((row['y_entry'] >= -19268905.6133) &\n",
    "                                        (row['y_entry'] <= -19208905.6133))))\n",
    "                                 else row['label'], axis=1)\n",
    "df_test['label'] = df_test.apply(lambda row: 1\n",
    "                                 if ((row['duration'] != 0.0)&(math.isnan(row['x_exit'])) &\n",
    "                                     (math.isnan(row['y_exit'])) &\n",
    "                                     (row['label'] == -1) &\n",
    "                                     (((row['x_entry'] >= 3750901.5068) &\n",
    "                                                               (row['x_entry'] <= 3770901.5068)) &\n",
    "                                       ((row['y_entry'] >= -19268905.6133) &\n",
    "                                        (row['y_entry'] <= -19208905.6133))))\n",
    "                                 else row['label'], axis=1)"
   ]
  },
  {
   "cell_type": "code",
   "execution_count": null,
   "metadata": {},
   "outputs": [],
   "source": [
    "df_test[(df_test.x_exit.isnull())&(df_test.y_exit.isnull())].shape"
   ]
  },
  {
   "cell_type": "code",
   "execution_count": null,
   "metadata": {},
   "outputs": [],
   "source": [
    "df_test[(df_test.x_exit.isnull())&(df_test.y_exit.isnull())][['trajectory_id', 'label']].to_csv('output3.csv', index=False)"
   ]
  },
  {
   "cell_type": "code",
   "execution_count": null,
   "metadata": {},
   "outputs": [],
   "source": [
    "plt.clf()\n",
    "plot_fig(train[(~((train['x_entry'] >= 3750901.5068) &\n",
    "         (train['x_entry'] <= 3770901.5068) & (train['y_entry'] >= -19268905.6133) &\n",
    "         (train['y_entry'] <= -19208905.6133))&(train['label'] == 1))])"
   ]
  },
  {
   "cell_type": "markdown",
   "metadata": {},
   "source": [
    "# Clustering"
   ]
  },
  {
   "cell_type": "code",
   "execution_count": null,
   "metadata": {},
   "outputs": [],
   "source": [
    "import numpy as np\n",
    "import pandas as pd\n",
    "import matplotlib.pyplot as plt\n",
    "from sklearn.cluster import KMeans\n",
    "from collections import Counter"
   ]
  },
  {
   "cell_type": "code",
   "execution_count": null,
   "metadata": {},
   "outputs": [],
   "source": [
    "X=train_in_city_1[train_in_city_1['duration'] != 0.0].loc[:,['x_exit','y_exit']]"
   ]
  },
  {
   "cell_type": "code",
   "execution_count": null,
   "metadata": {},
   "outputs": [],
   "source": [
    "id_n=2\n",
    "kmeans = KMeans(n_clusters=id_n, random_state=0).fit(X)\n",
    "id_label=kmeans.labels_"
   ]
  },
  {
   "cell_type": "code",
   "execution_count": null,
   "metadata": {},
   "outputs": [],
   "source": [
    "ptsymb = np.array(['b.','r.','m.','g.','c.','k.','b*','r*','m*','r^']);\n",
    "plt.figure(figsize=(12,12))\n",
    "plt.ylabel('Longitude', fontsize=12)\n",
    "plt.xlabel('Latitude', fontsize=12)\n",
    "for i in range(id_n):\n",
    "    cluster=np.where(id_label==i)[0]\n",
    "    plt.plot(X.x_exit[cluster].values,X.y_exit[cluster].values,ptsymb[i])\n",
    "plt.show()"
   ]
  },
  {
   "cell_type": "code",
   "execution_count": null,
   "metadata": {},
   "outputs": [],
   "source": [
    "from sklearn.cluster import DBSCAN\n",
    "from sklearn.preprocessing import StandardScaler\n",
    "from sklearn.ensemble import RandomForestRegressor\n",
    "import numpy as np\n",
    "from sklearn.svm import SVC"
   ]
  },
  {
   "cell_type": "code",
   "execution_count": null,
   "metadata": {},
   "outputs": [],
   "source": [
    "scaler = StandardScaler()\n",
    "X_scaled = scaler.fit_transform(X)"
   ]
  },
  {
   "cell_type": "code",
   "execution_count": null,
   "metadata": {},
   "outputs": [],
   "source": [
    "dbscan = DBSCAN(eps=10000.0, min_samples = 10)\n",
    "clusters = dbscan.fit_predict(X_scaled)"
   ]
  },
  {
   "cell_type": "code",
   "execution_count": null,
   "metadata": {},
   "outputs": [],
   "source": [
    "# plot the cluster assignments\n",
    "plt.scatter(X['x_exit'], X['y_exit'], c=clusters, cmap=\"plasma\", s =0.01)\n",
    "plt.xlabel(\"Feature 0\")\n",
    "plt.ylabel(\"Feature 1\")\n",
    "# plt.colorbar(clusters)"
   ]
  },
  {
   "cell_type": "markdown",
   "metadata": {},
   "source": [
    "# Classification"
   ]
  },
  {
   "cell_type": "code",
   "execution_count": 120,
   "metadata": {},
   "outputs": [
    {
     "name": "stdout",
     "output_type": "stream",
     "text": [
      "(23902, 20)\n",
      "(83989, 20)\n",
      "(243258, 20)\n",
      "(30036, 20)\n"
     ]
    }
   ],
   "source": [
    "print(train_in_city_0.shape)\n",
    "print(train_in_city_1.shape)\n",
    "print(train_not_in_city_0.shape)\n",
    "print(train_not_in_city_1.shape)"
   ]
  },
  {
   "cell_type": "code",
   "execution_count": 178,
   "metadata": {},
   "outputs": [],
   "source": [
    "train_data_in_city = pd.concat([train_in_city_0[['x_entry','y_entry','duration','city_distance','count','hour','label']],\n",
    "                        train_in_city_1[['x_entry','y_entry','duration','city_distance','count','hour','label']]])\n",
    "train_data_not_in_city = pd.concat([train_not_in_city_0[['x_entry','y_entry','duration','city_distance','count','hour','label']],\n",
    "                        train_not_in_city_1[['x_entry','y_entry','duration','city_distance','count','hour','label']]])\n",
    "\n",
    "\n",
    "# train_data_in_city = pd.concat([train_in_city_0[['x_entry','y_entry','duration','city_distance','count','hour','label']],\n",
    "#                         train_in_city_1[['x_entry','y_entry','duration','city_distance','count','hour','label']]])\n",
    "# train_data_not_in_city = pd.concat([train_not_in_city_0[['x_entry','y_entry','duration','city_distance','label']],\n",
    "#                         train_not_in_city_1[['x_entry','y_entry','duration','city_distance','label']]])\n",
    "\n",
    "# train_data_in_city = pd.concat([train_in_city_0[['x_entry','y_entry','duration','city_distance','count','hour','label']],\n",
    "#                         train_in_city_1[['x_entry','y_entry','duration','city_distance','count','hour','label']].sample(n=30036, random_state=1)])\n",
    "# # train_data_not_in_city = pd.concat([train_not_in_city_0[['x_entry','y_entry','duration','city_distance','count','label']].sample(n=3957, random_state=1),\n",
    "#                         train_not_in_city_1[['x_entry','y_entry','duration','city_distance','count','label']]])"
   ]
  },
  {
   "cell_type": "code",
   "execution_count": 141,
   "metadata": {},
   "outputs": [],
   "source": [
    "from sklearn.model_selection import train_test_split\n",
    "from sklearn.linear_model import LinearRegression\n",
    "from sklearn.metrics import mean_squared_error, r2_score\n",
    "from sklearn.neural_network import MLPClassifier\n",
    "from sklearn.metrics import classification_report\n",
    "from sklearn.ensemble import RandomForestClassifier\n",
    "from sklearn.linear_model import LogisticRegression\n",
    "from sklearn.preprocessing import StandardScaler\n",
    "from sklearn.datasets import make_moons, make_circles, make_classification\n",
    "from sklearn.neural_network import MLPClassifier\n",
    "from sklearn.neighbors import KNeighborsClassifier\n",
    "from sklearn.svm import SVC\n",
    "from sklearn.gaussian_process import GaussianProcessClassifier\n",
    "from sklearn.gaussian_process.kernels import RBF\n",
    "from sklearn.tree import DecisionTreeClassifier\n",
    "from sklearn.ensemble import RandomForestClassifier, AdaBoostClassifier\n",
    "from sklearn.naive_bayes import GaussianNB\n",
    "from sklearn.discriminant_analysis import QuadraticDiscriminantAnalysis\n",
    "from sklearn.preprocessing import StandardScaler\n",
    "from sklearn.feature_selection import SelectFromModel"
   ]
  },
  {
   "cell_type": "code",
   "execution_count": 179,
   "metadata": {},
   "outputs": [],
   "source": [
    "x_1 = train_data_in_city.iloc[:, :-1].values\n",
    "y_1 = train_data_in_city.iloc[:, -1].values\n",
    "x_2 = train_data_not_in_city.iloc[:, :-1].values\n",
    "y_2 = train_data_not_in_city.iloc[:, -1].values\n",
    "# sc_1 = StandardScaler()  \n",
    "# sc_2 = StandardScaler()  \n",
    "# x_1 = sc_1.fit_transform(x_1)\n",
    "# x_1 = sc_2.fit_transform(x_1)  "
   ]
  },
  {
   "cell_type": "code",
   "execution_count": 180,
   "metadata": {},
   "outputs": [
    {
     "name": "stdout",
     "output_type": "stream",
     "text": [
      "              precision    recall  f1-score   support\n",
      "\n",
      "           0       0.57      0.37      0.45      2433\n",
      "           1       0.83      0.92      0.87      8357\n",
      "\n",
      "   micro avg       0.80      0.80      0.80     10790\n",
      "   macro avg       0.70      0.64      0.66     10790\n",
      "weighted avg       0.77      0.80      0.78     10790\n",
      "\n"
     ]
    }
   ],
   "source": [
    "xTrain, xTest, yTrain, yTest = train_test_split(x_1, y_1, test_size = 0.1, random_state = 0)\n",
    "# clf_1 = GaussianNB()\n",
    "clf_1 = RandomForestClassifier(n_jobs = -1, n_estimators=100,max_depth = 40, random_state=42)\n",
    "# clf_1 = AdaBoostClassifier(n_estimators=1000)\n",
    "# clf_1 = SVC(gamma=2, C=1)\n",
    "# clf_1 = MLPClassifier(activation= 'relu',hidden_layer_sizes=(3,10,10))\n",
    "# clf_1 = GaussianProcessClassifier(1.0 * RBF(1.0))\n",
    "# clf_1 = LogisticRegression(penalty ='l2',dual = True)\n",
    "# clf_1 = DecisionTreeClassifier(max_depth=40)\n",
    "# clf_1 = KNeighborsClassifier(10)\n",
    "clf_1.fit(xTrain, yTrain)\n",
    "yPred = clf_1.predict(xTest)\n",
    "print(classification_report(yTest, yPred))"
   ]
  },
  {
   "cell_type": "code",
   "execution_count": 181,
   "metadata": {},
   "outputs": [
    {
     "name": "stdout",
     "output_type": "stream",
     "text": [
      "(0, 0.15561204377185395)\n",
      "(1, 0.1594745770249206)\n",
      "(1, 0.2926006148093666)\n",
      "(1, 0.15750693553807016)\n",
      "(1, 0.07886886105198077)\n",
      "(1, 0.15593696780380786)\n"
     ]
    }
   ],
   "source": [
    "for feature in zip(yTest, clf_1.feature_importances_):\n",
    "    print(feature)"
   ]
  },
  {
   "cell_type": "code",
   "execution_count": 157,
   "metadata": {},
   "outputs": [
    {
     "name": "stdout",
     "output_type": "stream",
     "text": [
      "              precision    recall  f1-score   support\n",
      "\n",
      "           0       0.91      0.90      0.91     24285\n",
      "           1       0.27      0.28      0.28      3045\n",
      "\n",
      "   micro avg       0.84      0.84      0.84     27330\n",
      "   macro avg       0.59      0.59      0.59     27330\n",
      "weighted avg       0.84      0.84      0.84     27330\n",
      "\n"
     ]
    }
   ],
   "source": [
    "xTrain, xTest, yTrain, yTest = train_test_split(x_2, y_2, test_size = 0.1, random_state = 0)\n",
    "# clf_2 = GaussianNB()\n",
    "# clf_2 = RandomForestClassifier(n_jobs = -1, n_estimators=1000,max_depth = 40)\n",
    "# clf_2 = AdaBoostClassifier(n_estimators=1000)\n",
    "# clf_2 = MLPClassifier(alpha=1)\n",
    "# clf_2 = GaussianProcessClassifier(1.0 * RBF(1.0))\n",
    "# clf_2 = SVC(gamma=2, C=1)\n",
    "# clf_2 = LogisticRegression()\n",
    "clf_2 = DecisionTreeClassifier(max_depth=60, random_state=42)\n",
    "# clf_2 = KNeighborsClassifier(7)\n",
    "# clf_2 = MLPClassifier(activation= 'relu',hidden_layer_sizes=(3,10,10))\n",
    "clf_2.fit(xTrain, yTrain)\n",
    "yPred = clf_2.predict(xTest)\n",
    "print(classification_report(yTest, yPred))"
   ]
  },
  {
   "cell_type": "code",
   "execution_count": 158,
   "metadata": {},
   "outputs": [
    {
     "name": "stdout",
     "output_type": "stream",
     "text": [
      "(0, 0.21993258373823257)\n",
      "(0, 0.133661866665599)\n",
      "(0, 0.22946301700164978)\n",
      "(0, 0.13997277699415314)\n",
      "(0, 0.08850666805591205)\n",
      "(0, 0.18846308754445354)\n"
     ]
    }
   ],
   "source": [
    "for feature in zip(yTest, clf_2.feature_importances_):\n",
    "    print(feature)"
   ]
  },
  {
   "cell_type": "code",
   "execution_count": 182,
   "metadata": {},
   "outputs": [
    {
     "name": "stderr",
     "output_type": "stream",
     "text": [
      "C:\\Anaconda3\\lib\\site-packages\\ipykernel_launcher.py:4: SettingWithCopyWarning: \n",
      "A value is trying to be set on a copy of a slice from a DataFrame.\n",
      "Try using .loc[row_indexer,col_indexer] = value instead\n",
      "\n",
      "See the caveats in the documentation: http://pandas.pydata.org/pandas-docs/stable/indexing.html#indexing-view-versus-copy\n",
      "  after removing the cwd from sys.path.\n",
      "C:\\Anaconda3\\lib\\site-packages\\ipykernel_launcher.py:5: SettingWithCopyWarning: \n",
      "A value is trying to be set on a copy of a slice from a DataFrame.\n",
      "Try using .loc[row_indexer,col_indexer] = value instead\n",
      "\n",
      "See the caveats in the documentation: http://pandas.pydata.org/pandas-docs/stable/indexing.html#indexing-view-versus-copy\n",
      "  \"\"\"\n"
     ]
    }
   ],
   "source": [
    "# test_start_in_city['label'] =  clf_1.predict(sc_1.fit_transform(test_start_in_city[['x_entry','y_entry','duration','city_distance','count','hour']].values))\n",
    "# test_start_not_in_city['label'] =  clf_2.predict(sc_2.fit_transform(test_start_not_in_city[['x_entry','y_entry','duration','city_distance','count','hour']].values))\n",
    "\n",
    "test_start_in_city['label'] =  clf_1.predict(test_start_in_city[['x_entry','y_entry','duration','city_distance','count','hour']].values)\n",
    "test_start_not_in_city['label'] =  clf_2.predict(test_start_not_in_city[['x_entry','y_entry','duration','city_distance','count','hour']].values)\n",
    "\n",
    "\n",
    "# test_start_in_city['label'] =  clf_1.predict(sc_1.fit_transform(test_start_in_city[['x_entry','y_entry','duration','city_distance','count','hour']].values))\n",
    "# test_start_not_in_city['label'] =  clf_2.predict(sc_2.fit_transform(test_start_not_in_city[['x_entry','y_entry','duration','city_distance']].values))\n"
   ]
  },
  {
   "cell_type": "code",
   "execution_count": 99,
   "metadata": {},
   "outputs": [
    {
     "name": "stderr",
     "output_type": "stream",
     "text": [
      "C:\\Anaconda3\\lib\\site-packages\\ipykernel_launcher.py:3: SettingWithCopyWarning: \n",
      "A value is trying to be set on a copy of a slice from a DataFrame.\n",
      "Try using .loc[row_indexer,col_indexer] = value instead\n",
      "\n",
      "See the caveats in the documentation: http://pandas.pydata.org/pandas-docs/stable/indexing.html#indexing-view-versus-copy\n",
      "  This is separate from the ipykernel package so we can avoid doing imports until\n"
     ]
    }
   ],
   "source": [
    "test_start_not_in_city['label'] = test_start_not_in_city.apply(lambda row: 1 \n",
    "                                 if (row['city_distance']<1000)\n",
    "                                 else row['label'], axis=1)"
   ]
  },
  {
   "cell_type": "code",
   "execution_count": 183,
   "metadata": {},
   "outputs": [],
   "source": [
    "out = pd.concat([df_test[df_test['label']!=-1],test_start_in_city,\n",
    "                 test_start_not_in_city])"
   ]
  },
  {
   "cell_type": "code",
   "execution_count": 175,
   "metadata": {},
   "outputs": [
    {
     "data": {
      "text/plain": [
       "0.4268041622997455"
      ]
     },
     "execution_count": 175,
     "metadata": {},
     "output_type": "execute_result"
    }
   ],
   "source": [
    "train.label.value_counts()[1]/train.label.value_counts()[0]"
   ]
  },
  {
   "cell_type": "code",
   "execution_count": 184,
   "metadata": {},
   "outputs": [
    {
     "data": {
      "text/plain": [
       "0.3883595691797846"
      ]
     },
     "execution_count": 184,
     "metadata": {},
     "output_type": "execute_result"
    }
   ],
   "source": [
    "out.label.value_counts()[1]/out.label.value_counts()[0]"
   ]
  },
  {
   "cell_type": "code",
   "execution_count": 185,
   "metadata": {},
   "outputs": [
    {
     "data": {
      "text/plain": [
       "1    3319\n",
       "0    1364\n",
       "Name: label, dtype: int64"
      ]
     },
     "execution_count": 185,
     "metadata": {},
     "output_type": "execute_result"
    }
   ],
   "source": [
    "test_start_in_city.label.value_counts()"
   ]
  },
  {
   "cell_type": "code",
   "execution_count": 186,
   "metadata": {},
   "outputs": [
    {
     "data": {
      "text/plain": [
       "0    10796\n",
       "1     1195\n",
       "Name: label, dtype: int64"
      ]
     },
     "execution_count": 186,
     "metadata": {},
     "output_type": "execute_result"
    }
   ],
   "source": [
    "test_start_not_in_city.label.value_counts()"
   ]
  },
  {
   "cell_type": "code",
   "execution_count": 187,
   "metadata": {},
   "outputs": [
    {
     "data": {
      "text/plain": [
       "0.11068914412745462"
      ]
     },
     "execution_count": 187,
     "metadata": {},
     "output_type": "execute_result"
    }
   ],
   "source": [
    "test_start_not_in_city.label.value_counts()[1]/test_start_not_in_city.label.value_counts()[0]"
   ]
  },
  {
   "cell_type": "code",
   "execution_count": 188,
   "metadata": {},
   "outputs": [
    {
     "data": {
      "text/plain": [
       "2.4332844574780057"
      ]
     },
     "execution_count": 188,
     "metadata": {},
     "output_type": "execute_result"
    }
   ],
   "source": [
    "test_start_in_city.label.value_counts()[1]/test_start_in_city.label.value_counts()[0]"
   ]
  },
  {
   "cell_type": "code",
   "execution_count": 189,
   "metadata": {},
   "outputs": [
    {
     "data": {
      "text/plain": [
       "0.12347384258688306"
      ]
     },
     "execution_count": 189,
     "metadata": {},
     "output_type": "execute_result"
    }
   ],
   "source": [
    "train_not_in_city_1.label.value_counts()[1]/train_not_in_city_0.label.value_counts()[0]"
   ]
  },
  {
   "cell_type": "code",
   "execution_count": 190,
   "metadata": {},
   "outputs": [
    {
     "data": {
      "text/plain": [
       "3.513890051041754"
      ]
     },
     "execution_count": 190,
     "metadata": {},
     "output_type": "execute_result"
    }
   ],
   "source": [
    "train_in_city_1.label.value_counts()[1]/train_in_city_0.label.value_counts()[0]"
   ]
  },
  {
   "cell_type": "code",
   "execution_count": 191,
   "metadata": {},
   "outputs": [
    {
     "data": {
      "text/plain": [
       "0    24140\n",
       "1     9375\n",
       "Name: label, dtype: int64"
      ]
     },
     "execution_count": 191,
     "metadata": {},
     "output_type": "execute_result"
    }
   ],
   "source": [
    "out.label.value_counts()"
   ]
  },
  {
   "cell_type": "code",
   "execution_count": 192,
   "metadata": {},
   "outputs": [],
   "source": [
    "out.sort_values('trajectory_id',ascending=True)[['trajectory_id','label']].to_csv('output20.csv', index=False)"
   ]
  },
  {
   "cell_type": "markdown",
   "metadata": {},
   "source": [
    "# Last"
   ]
  },
  {
   "cell_type": "code",
   "execution_count": null,
   "metadata": {},
   "outputs": [],
   "source": [
    "test_start_in_city.duration.describe()"
   ]
  },
  {
   "cell_type": "code",
   "execution_count": null,
   "metadata": {},
   "outputs": [],
   "source": [
    "plot_fig_entry(test_start_in_city[test_start_in_city['duration']>500])"
   ]
  },
  {
   "cell_type": "code",
   "execution_count": null,
   "metadata": {},
   "outputs": [],
   "source": [
    "test_start_in_city[test_start_in_city['duration']<500].shape"
   ]
  },
  {
   "cell_type": "code",
   "execution_count": null,
   "metadata": {},
   "outputs": [],
   "source": []
  }
 ],
 "metadata": {
  "kernelspec": {
   "display_name": "Python 3",
   "language": "python",
   "name": "python3"
  },
  "language_info": {
   "codemirror_mode": {
    "name": "ipython",
    "version": 3
   },
   "file_extension": ".py",
   "mimetype": "text/x-python",
   "name": "python",
   "nbconvert_exporter": "python",
   "pygments_lexer": "ipython3",
   "version": "3.6.8"
  }
 },
 "nbformat": 4,
 "nbformat_minor": 2
}
